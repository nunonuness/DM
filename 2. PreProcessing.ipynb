{
 "cells": [
  {
   "cell_type": "markdown",
   "metadata": {},
   "source": [
    "<div style=\"background-color: #ffffff; color: #333; padding: 15px; border: 1px solid #ddd; border-radius: 8px;\">\n",
    "    <a class=\"anchor\" id=\"1st-bullet\"></a>\n",
    "    <h2 style=\"color: #795548; font-weight: bold; text-align: center;\">Group Project - Data Preprocessing</h2>\n",
    "    <h3 style=\"color: #a1887f; text-align: center;\">Data Mining 2024/2025</h3>\n",
    "</div>"
   ]
  },
  {
   "cell_type": "markdown",
   "metadata": {},
   "source": [
    "<div style=\"text-align: center;\">\n",
    "    <strong>Group 14</strong>\n",
    "    <table style=\"margin: 0 auto; border-collapse: collapse; border: 1px solid black;\">\n",
    "        <tr>\n",
    "            <th style=\"border: 1px solid white; padding: 8px;\">Name</th>\n",
    "            <th style=\"border: 1px solid white; padding: 8px;\">Student ID</th>\n",
    "        </tr>\n",
    "        <tr>\n",
    "            <td style=\"border: 1px solid white; padding: 8px;\">Francisco Santos</td>\n",
    "            <td style=\"border: 1px solid white; padding: 8px;\">20240562</td>\n",
    "        </tr>\n",
    "        <tr>\n",
    "            <td style=\"border: 1px solid white; padding: 8px;\">Margarida Raposo</td>\n",
    "            <td style=\"border: 1px solid white; padding: 8px;\">20241020</td>\n",
    "        </tr>\n",
    "        <tr>\n",
    "            <td style=\"border: 1px solid white; padding: 8px;\">Nuno Nunes</td>\n",
    "            <td style=\"border: 1px solid white; padding: 8px;\">20240560</td>\n",
    "        </tr>\n",
    "        <tr>\n",
    "            <td style=\"border: 1px solid white; padding: 8px;\">Teresa Menezes</td>\n",
    "            <td style=\"border: 1px solid white; padding: 8px;\">20240333</td>\n",
    "        </tr>\n",
    "    </table>\n",
    "</div>"
   ]
  },
  {
   "cell_type": "markdown",
   "metadata": {},
   "source": [
    "### **Structure**\n",
    "1. [Data Preparation](#add)\n",
    "2. [Missing Values](#add)\n",
    "3. [Outliers](#add)\n",
    "3. Feature Engineering ? https://www.kaggle.com/code/karnikakapoor/customer-segmentation-clustering"
   ]
  },
  {
   "cell_type": "markdown",
   "metadata": {},
   "source": [
    "https://medium.com/@revag2014/dbscan-an-easy-clustering-algorithm-and-also-how-to-optimize-it-using-grid-search-69a382b63e85"
   ]
  },
  {
   "cell_type": "code",
   "execution_count": 1,
   "metadata": {},
   "outputs": [],
   "source": [
    "import pandas as pd\n",
    "import numpy as np\n",
    "\n",
    "# Import matplotlib.pyplot and seaborn for data visualization\n",
    "import matplotlib.pyplot as plt\n",
    "import seaborn as sns\n",
    "\n",
    "# Import os for operating system dependent functionality\n",
    "import os\n",
    "\n",
    "# Import ceil from math for ceiling function\n",
    "from math import ceil\n",
    "\n",
    "# Import stats from scipy for statistical functions\n",
    "from scipy import stats\n",
    "\n",
    "# Import warnings to handle warnings\n",
    "import warnings\n",
    "\n",
    "# Import StandardScaler from sklearn.preprocessing for feature scaling\n",
    "from sklearn.preprocessing import StandardScaler\n",
    "\n",
    "# Import NearestNeighbors from sklearn.neighbors for nearest neighbors search\n",
    "from sklearn.neighbors import NearestNeighbors\n",
    "\n",
    "# Import KneeLocator from kneed to find the \"elbow\" point in k-distance graph\n",
    "from kneed import KneeLocator\n",
    "\n",
    "# Import DBSCAN from sklearn.cluster for DBSCAN clustering\n",
    "from sklearn.cluster import DBSCAN\n",
    "\n",
    "# Import silhouette_score from sklearn.metrics to evaluate clustering quality\n",
    "from sklearn.metrics import silhouette_score\n",
    "\n",
    "# Import itertools for efficient looping\n",
    "import itertools"
   ]
  },
  {
   "cell_type": "code",
   "execution_count": 19,
   "metadata": {},
   "outputs": [],
   "source": [
    "df = pd.read_csv('df1.csv', index_col='customer_id')"
   ]
  },
  {
   "cell_type": "markdown",
   "metadata": {},
   "source": [
    "## Data Preparation"
   ]
  },
  {
   "cell_type": "code",
   "execution_count": 20,
   "metadata": {},
   "outputs": [],
   "source": [
    "# exclude customers with no orders\n",
    "no_orders = df.loc[:, 'DOW_0':'DOW_6'].sum(axis=1) == 0\n",
    "no_orders = df[no_orders]"
   ]
  },
  {
   "cell_type": "code",
   "execution_count": 21,
   "metadata": {},
   "outputs": [],
   "source": [
    "# new dataframe with only customers who have ordered\n",
    "df_customers = df[~df.index.isin(no_orders.index)]"
   ]
  },
  {
   "cell_type": "markdown",
   "metadata": {},
   "source": [
    "### Missing Values"
   ]
  },
  {
   "cell_type": "code",
   "execution_count": 22,
   "metadata": {},
   "outputs": [],
   "source": [
    "df_customers = df_customers.replace('-', np.nan)"
   ]
  },
  {
   "cell_type": "code",
   "execution_count": 6,
   "metadata": {},
   "outputs": [
    {
     "data": {
      "text/html": [
       "<div>\n",
       "<style scoped>\n",
       "    .dataframe tbody tr th:only-of-type {\n",
       "        vertical-align: middle;\n",
       "    }\n",
       "\n",
       "    .dataframe tbody tr th {\n",
       "        vertical-align: top;\n",
       "    }\n",
       "\n",
       "    .dataframe thead th {\n",
       "        text-align: right;\n",
       "    }\n",
       "</style>\n",
       "<table border=\"1\" class=\"dataframe\">\n",
       "  <thead>\n",
       "    <tr style=\"text-align: right;\">\n",
       "      <th></th>\n",
       "      <th>Total NaN</th>\n",
       "      <th>Percentage NaN</th>\n",
       "    </tr>\n",
       "  </thead>\n",
       "  <tbody>\n",
       "    <tr>\n",
       "      <th>last_promo</th>\n",
       "      <td>16671</td>\n",
       "      <td>52.61</td>\n",
       "    </tr>\n",
       "    <tr>\n",
       "      <th>customer_age</th>\n",
       "      <td>727</td>\n",
       "      <td>2.29</td>\n",
       "    </tr>\n",
       "    <tr>\n",
       "      <th>age_group</th>\n",
       "      <td>727</td>\n",
       "      <td>2.29</td>\n",
       "    </tr>\n",
       "    <tr>\n",
       "      <th>customer_region</th>\n",
       "      <td>442</td>\n",
       "      <td>1.39</td>\n",
       "    </tr>\n",
       "    <tr>\n",
       "      <th>first_order</th>\n",
       "      <td>106</td>\n",
       "      <td>0.33</td>\n",
       "    </tr>\n",
       "  </tbody>\n",
       "</table>\n",
       "</div>"
      ],
      "text/plain": [
       "                 Total NaN  Percentage NaN\n",
       "last_promo           16671           52.61\n",
       "customer_age           727            2.29\n",
       "age_group              727            2.29\n",
       "customer_region        442            1.39\n",
       "first_order            106            0.33"
      ]
     },
     "execution_count": 6,
     "metadata": {},
     "output_type": "execute_result"
    }
   ],
   "source": [
    "# get the total number of NaN values for each column\n",
    "total_nan = df_customers.isna().sum().sort_values(ascending=False)\n",
    "\n",
    "# get the percentage of NaN values for each column\n",
    "percent_nan = ((total_nan / len(df_customers)) * 100).round(2)\n",
    "\n",
    "# create a DataFrame to display the total and percentage of NaN values for each column\n",
    "nan_stats = pd.DataFrame({'Total NaN': total_nan, 'Percentage NaN': percent_nan})\n",
    "\n",
    "# no need to display columns with no NaN values\n",
    "nan_stats = nan_stats[nan_stats['Total NaN'] > 0]\n",
    "\n",
    "nan_stats"
   ]
  },
  {
   "cell_type": "markdown",
   "metadata": {},
   "source": [
    "- last_promo has more than half of missing values\n",
    "\n",
    "- All the other variables have low %, so lets use imputation\n",
    "\n",
    "- Same % for 'customer_age' and 'age_group' -> NaN values in age_group are probably due to missing values in customer_age"
   ]
  },
  {
   "cell_type": "markdown",
   "metadata": {},
   "source": [
    "**Last Promo**"
   ]
  },
  {
   "cell_type": "code",
   "execution_count": 23,
   "metadata": {},
   "outputs": [],
   "source": [
    "# let's substitute missing values with 'no promo'\n",
    "df_customers['last_promo'].fillna('NO PROMO', inplace=True)"
   ]
  },
  {
   "cell_type": "markdown",
   "metadata": {},
   "source": [
    "**Customer Age and Age Group**"
   ]
  },
  {
   "cell_type": "code",
   "execution_count": 25,
   "metadata": {},
   "outputs": [
    {
     "name": "stdout",
     "output_type": "stream",
     "text": [
      "Are all missing age_group values tied to missing customer_age? True\n"
     ]
    }
   ],
   "source": [
    "# Check if missing age_group aligns with missing customer_age\n",
    "missing_consistency = df_customers[df_customers['customer_age'].isnull()]['age_group'].isnull().all()\n",
    "print(f\"Are all missing age_group values tied to missing customer_age? {missing_consistency}\")"
   ]
  },
  {
   "cell_type": "code",
   "execution_count": 26,
   "metadata": {},
   "outputs": [
    {
     "data": {
      "text/plain": [
       "Text(0.5, 1.0, 'Distribution of Customer Age')"
      ]
     },
     "execution_count": 26,
     "metadata": {},
     "output_type": "execute_result"
    },
    {
     "data": {
      "image/png": "[encoded data removed]",
      "text/plain": [
       "<Figure size 640x480 with 1 Axes>"
      ]
     },
     "metadata": {},
     "output_type": "display_data"
    }
   ],
   "source": [
    "# get distribution of the 'customer_age' column\n",
    "sns.histplot(df_customers['customer_age'], kde=True, color='blue')\n",
    "plt.title('Distribution of Customer Age')\n"
   ]
  },
  {
   "cell_type": "markdown",
   "metadata": {},
   "source": [
    "- Distribution is right-skewed, let's use the median over the mean"
   ]
  },
  {
   "cell_type": "code",
   "execution_count": 27,
   "metadata": {},
   "outputs": [],
   "source": [
    "# ignore warnings\n",
    "warnings.filterwarnings('ignore')\n",
    "\n",
    "# fill customer_age with the median value\n",
    "customer_age_median = df_customers['customer_age'].median()  # 26\n",
    "df_customers['customer_age'].fillna(customer_age_median, inplace=True)\n",
    "\n",
    "# fill age_group with the respective age group (21-30)\n",
    "df_customers['age_group'].fillna('21-30', inplace=True)"
   ]
  },
  {
   "cell_type": "markdown",
   "metadata": {},
   "source": [
    "**Customer Region**"
   ]
  },
  {
   "cell_type": "code",
   "execution_count": 31,
   "metadata": {},
   "outputs": [],
   "source": [
    "# since we created 'customer_city' we will drop this variable\n",
    "df_customers.drop(columns='customer_region', inplace=True)"
   ]
  },
  {
   "cell_type": "markdown",
   "metadata": {},
   "source": [
    "**First_Order** \n",
    "- Impute with the mean, median or mode doesn't make sense here. As those missing values represent 0.33% let's drop them"
   ]
  },
  {
   "cell_type": "code",
   "execution_count": 32,
   "metadata": {},
   "outputs": [],
   "source": [
    "# ignore warnings\n",
    "warnings.filterwarnings('ignore')\n",
    "\n",
    "# drop rows where first_order is missing\n",
    "df_customers.dropna(subset=['first_order'], inplace=True)"
   ]
  },
  {
   "cell_type": "markdown",
   "metadata": {},
   "source": [
    "## Outliers"
   ]
  },
  {
   "cell_type": "code",
   "execution_count": 34,
   "metadata": {},
   "outputs": [],
   "source": [
    "# columns which values range from 0 to 1 so they don't need to be scaled\n",
    "cols_range_0_1 = ['vendor_loyalty_score','relative_cuisine_variety', 'chain_consumption']\n",
    "\n",
    "# categorical features that represent categorical data\n",
    "num_cat_features = ['customer_city', 'available_cuisines_city', 'cuisine_variety']"
   ]
  },
  {
   "cell_type": "code",
   "execution_count": 35,
   "metadata": {},
   "outputs": [],
   "source": [
    "# get metric features\n",
    "metric_features = df_customers.select_dtypes(include=[np.number]).columns.difference(num_cat_features + cols_range_0_1)\n",
    "# get non-metric features\n",
    "non_metric_features = df_customers.select_dtypes(exclude=[np.number]).columns"
   ]
  },
  {
   "cell_type": "code",
   "execution_count": 36,
   "metadata": {},
   "outputs": [],
   "source": [
    "# scale the metric features for DBSCAN\n",
    "scaler = StandardScaler()\n",
    "data_scaled = scaler.fit_transform(df_customers[metric_features])"
   ]
  },
  {
   "cell_type": "markdown",
   "metadata": {},
   "source": [
    "## DBSCAN"
   ]
  },
  {
   "cell_type": "markdown",
   "metadata": {},
   "source": [
    "**N_Neighbours**"
   ]
  },
  {
   "cell_type": "code",
   "execution_count": 37,
   "metadata": {},
   "outputs": [
    {
     "data": {
      "image/png": "[encoded data removed]",
      "text/plain": [
       "<Figure size 640x480 with 1 Axes>"
      ]
     },
     "metadata": {},
     "output_type": "display_data"
    },
    {
     "data": {
      "text/html": [
       "<div>\n",
       "<style scoped>\n",
       "    .dataframe tbody tr th:only-of-type {\n",
       "        vertical-align: middle;\n",
       "    }\n",
       "\n",
       "    .dataframe tbody tr th {\n",
       "        vertical-align: top;\n",
       "    }\n",
       "\n",
       "    .dataframe thead th {\n",
       "        text-align: right;\n",
       "    }\n",
       "</style>\n",
       "<table border=\"1\" class=\"dataframe\">\n",
       "  <thead>\n",
       "    <tr style=\"text-align: right;\">\n",
       "      <th></th>\n",
       "      <th>n_neighbors</th>\n",
       "      <th>Elbow Index</th>\n",
       "      <th>Epsilon</th>\n",
       "    </tr>\n",
       "  </thead>\n",
       "  <tbody>\n",
       "    <tr>\n",
       "      <th>0</th>\n",
       "      <td>2</td>\n",
       "      <td>31523</td>\n",
       "      <td>23.454874</td>\n",
       "    </tr>\n",
       "    <tr>\n",
       "      <th>1</th>\n",
       "      <td>3</td>\n",
       "      <td>31434</td>\n",
       "      <td>18.764617</td>\n",
       "    </tr>\n",
       "    <tr>\n",
       "      <th>2</th>\n",
       "      <td>4</td>\n",
       "      <td>31323</td>\n",
       "      <td>16.013302</td>\n",
       "    </tr>\n",
       "    <tr>\n",
       "      <th>3</th>\n",
       "      <td>5</td>\n",
       "      <td>31281</td>\n",
       "      <td>15.531122</td>\n",
       "    </tr>\n",
       "    <tr>\n",
       "      <th>4</th>\n",
       "      <td>10</td>\n",
       "      <td>31422</td>\n",
       "      <td>20.496613</td>\n",
       "    </tr>\n",
       "  </tbody>\n",
       "</table>\n",
       "</div>"
      ],
      "text/plain": [
       "   n_neighbors  Elbow Index    Epsilon\n",
       "0            2        31523  23.454874\n",
       "1            3        31434  18.764617\n",
       "2            4        31323  16.013302\n",
       "3            5        31281  15.531122\n",
       "4           10        31422  20.496613"
      ]
     },
     "execution_count": 37,
     "metadata": {},
     "output_type": "execute_result"
    }
   ],
   "source": [
    "# List of n_neighbors to test\n",
    "n_neighbors_list = [2, 3, 4, 5, 10]\n",
    "\n",
    "# Initialize empty lists to store results\n",
    "elbow_indices = []\n",
    "epsilons = []\n",
    "\n",
    "# Perform calculations for each n_neighbors\n",
    "for n_neighbors in n_neighbors_list:\n",
    "    neigh = NearestNeighbors(n_neighbors=n_neighbors)\n",
    "    nbrs = neigh.fit(data_scaled)\n",
    "    distances, _ = nbrs.kneighbors(data_scaled)\n",
    "    distances = np.sort(distances[:, n_neighbors - 1], axis=0)\n",
    "\n",
    "    # Use KneeLocator to find the elbow point\n",
    "    kneedle = KneeLocator(range(len(distances)), distances, curve='convex', direction='increasing')\n",
    "\n",
    "    # Get the elbow point and epsilon\n",
    "    elbow_index = kneedle.elbow\n",
    "    epsilon = distances[elbow_index]\n",
    "\n",
    "    # Store the results\n",
    "    elbow_indices.append(elbow_index)\n",
    "    epsilons.append(epsilon)\n",
    "\n",
    "    # Optional: Highlight the elbow point on the graph for each n_neighbors\n",
    "    plt.plot(distances, label=f'n_neighbors={n_neighbors}')\n",
    "    plt.axvline(x=elbow_index, color='r', linestyle='--', label=f'Elbow Point (n={n_neighbors})')\n",
    "    plt.scatter(elbow_index, epsilon, color='red', label=f'Eps={epsilon:.2f} (n={n_neighbors})')\n",
    "\n",
    "# Create a DataFrame to store the results\n",
    "df_results = pd.DataFrame({\n",
    "    'n_neighbors': n_neighbors_list,\n",
    "    'Elbow Index': elbow_indices,\n",
    "    'Epsilon': epsilons\n",
    "})\n",
    "\n",
    "\n",
    "# Customize the graph\n",
    "plt.xlabel('Points sorted by distance')\n",
    "plt.ylabel('k-th Nearest Neighbor Distance')\n",
    "plt.title('k-Distance Graph for different n_neighbors')\n",
    "plt.legend()\n",
    "plt.show()\n",
    "\n",
    "# Display the table\n",
    "df_results\n"
   ]
  },
  {
   "cell_type": "code",
   "execution_count": 38,
   "metadata": {},
   "outputs": [],
   "source": [
    "epsilon = np.linspace(15, 25, 20) # range of epsilon values to test based on table above\n",
    "min_samples = np.arange(2, 12) # range of min_samples values to test based on table above"
   ]
  },
  {
   "cell_type": "code",
   "execution_count": 39,
   "metadata": {},
   "outputs": [
    {
     "data": {
      "text/plain": [
       "200"
      ]
     },
     "execution_count": 39,
     "metadata": {},
     "output_type": "execute_result"
    }
   ],
   "source": [
    "# get all possible combinations of epsilon and min_samples\n",
    "combinations = list(itertools.product(epsilon, min_samples))\n",
    "N = len(combinations)\n",
    "N"
   ]
  },
  {
   "cell_type": "code",
   "execution_count": 40,
   "metadata": {},
   "outputs": [],
   "source": [
    "# create a function to perform grid search for DBSCAN\n",
    "def GridSearch(combinations, X):\n",
    "    scores = []\n",
    "    all_label = []\n",
    "    for i, (eps, num_samples) in enumerate(combinations):\n",
    "        dbscan_model = DBSCAN(eps=eps, min_samples=num_samples).fit(X)\n",
    "        labels = dbscan_model.labels_\n",
    "        labels_set = set(labels)\n",
    "        num_clusters = len(labels_set)\n",
    "        if -1 in labels_set:\n",
    "            num_clusters -= 1\n",
    "        if (num_clusters < 2) or (num_clusters > 25):\n",
    "            scores.append(-20)\n",
    "            all_label.append(\"Poor\")\n",
    "            print(\" at iteration:\", i, \"ep =\", eps, \"min_samples =\", num_samples, \"number of clusters =\", num_clusters, \"moving on ..\")\n",
    "            continue\n",
    "        scores.append(silhouette_score(X, labels))\n",
    "        all_label.append(labels)\n",
    "        print(\" at iteration:\", i, \"score:\", scores[-1], \"Number of clusters:\", num_clusters)\n",
    "    best_index = np.argmax(scores)\n",
    "    best_parameters = combinations[best_index]\n",
    "    best_labels = all_label[best_index]\n",
    "    best_score = scores[best_index]\n",
    "    return {\n",
    "        'best_epsilon': best_parameters[0],\n",
    "        'best_min_samples': best_parameters[1],\n",
    "        'best_labels': best_labels,\n",
    "        'best_score': best_score\n",
    "    }"
   ]
  },
  {
   "cell_type": "code",
   "execution_count": 41,
   "metadata": {},
   "outputs": [
    {
     "name": "stdout",
     "output_type": "stream",
     "text": [
      " at iteration: 0 score: 0.6726640672077049 Number of clusters: 4\n",
      " at iteration: 1 ep = 15.0 min_samples = 3 number of clusters = 1 moving on ..\n",
      " at iteration: 2 ep = 15.0 min_samples = 4 number of clusters = 1 moving on ..\n",
      " at iteration: 3 ep = 15.0 min_samples = 5 number of clusters = 1 moving on ..\n",
      " at iteration: 4 ep = 15.0 min_samples = 6 number of clusters = 1 moving on ..\n",
      " at iteration: 5 ep = 15.0 min_samples = 7 number of clusters = 1 moving on ..\n",
      " at iteration: 6 ep = 15.0 min_samples = 8 number of clusters = 1 moving on ..\n",
      " at iteration: 7 ep = 15.0 min_samples = 9 number of clusters = 1 moving on ..\n",
      " at iteration: 8 ep = 15.0 min_samples = 10 number of clusters = 1 moving on ..\n",
      " at iteration: 9 ep = 15.0 min_samples = 11 number of clusters = 1 moving on ..\n",
      " at iteration: 10 score: 0.6847657630407733 Number of clusters: 4\n",
      " at iteration: 11 ep = 15.526315789473685 min_samples = 3 number of clusters = 1 moving on ..\n",
      " at iteration: 12 ep = 15.526315789473685 min_samples = 4 number of clusters = 1 moving on ..\n",
      " at iteration: 13 ep = 15.526315789473685 min_samples = 5 number of clusters = 1 moving on ..\n",
      " at iteration: 14 ep = 15.526315789473685 min_samples = 6 number of clusters = 1 moving on ..\n",
      " at iteration: 15 ep = 15.526315789473685 min_samples = 7 number of clusters = 1 moving on ..\n",
      " at iteration: 16 ep = 15.526315789473685 min_samples = 8 number of clusters = 1 moving on ..\n",
      " at iteration: 17 ep = 15.526315789473685 min_samples = 9 number of clusters = 1 moving on ..\n",
      " at iteration: 18 ep = 15.526315789473685 min_samples = 10 number of clusters = 1 moving on ..\n",
      " at iteration: 19 ep = 15.526315789473685 min_samples = 11 number of clusters = 1 moving on ..\n",
      " at iteration: 20 score: 0.6870556694801849 Number of clusters: 4\n",
      " at iteration: 21 ep = 16.05263157894737 min_samples = 3 number of clusters = 1 moving on ..\n",
      " at iteration: 22 ep = 16.05263157894737 min_samples = 4 number of clusters = 1 moving on ..\n",
      " at iteration: 23 ep = 16.05263157894737 min_samples = 5 number of clusters = 1 moving on ..\n",
      " at iteration: 24 ep = 16.05263157894737 min_samples = 6 number of clusters = 1 moving on ..\n",
      " at iteration: 25 ep = 16.05263157894737 min_samples = 7 number of clusters = 1 moving on ..\n",
      " at iteration: 26 ep = 16.05263157894737 min_samples = 8 number of clusters = 1 moving on ..\n",
      " at iteration: 27 ep = 16.05263157894737 min_samples = 9 number of clusters = 1 moving on ..\n",
      " at iteration: 28 ep = 16.05263157894737 min_samples = 10 number of clusters = 1 moving on ..\n",
      " at iteration: 29 ep = 16.05263157894737 min_samples = 11 number of clusters = 1 moving on ..\n",
      " at iteration: 30 score: 0.7145991861360446 Number of clusters: 2\n",
      " at iteration: 31 ep = 16.57894736842105 min_samples = 3 number of clusters = 1 moving on ..\n",
      " at iteration: 32 ep = 16.57894736842105 min_samples = 4 number of clusters = 1 moving on ..\n",
      " at iteration: 33 ep = 16.57894736842105 min_samples = 5 number of clusters = 1 moving on ..\n",
      " at iteration: 34 ep = 16.57894736842105 min_samples = 6 number of clusters = 1 moving on ..\n",
      " at iteration: 35 ep = 16.57894736842105 min_samples = 7 number of clusters = 1 moving on ..\n",
      " at iteration: 36 ep = 16.57894736842105 min_samples = 8 number of clusters = 1 moving on ..\n",
      " at iteration: 37 ep = 16.57894736842105 min_samples = 9 number of clusters = 1 moving on ..\n",
      " at iteration: 38 ep = 16.57894736842105 min_samples = 10 number of clusters = 1 moving on ..\n",
      " at iteration: 39 ep = 16.57894736842105 min_samples = 11 number of clusters = 1 moving on ..\n",
      " at iteration: 40 score: 0.7143814695995964 Number of clusters: 3\n",
      " at iteration: 41 ep = 17.105263157894736 min_samples = 3 number of clusters = 1 moving on ..\n",
      " at iteration: 42 ep = 17.105263157894736 min_samples = 4 number of clusters = 1 moving on ..\n",
      " at iteration: 43 ep = 17.105263157894736 min_samples = 5 number of clusters = 1 moving on ..\n",
      " at iteration: 44 ep = 17.105263157894736 min_samples = 6 number of clusters = 1 moving on ..\n",
      " at iteration: 45 ep = 17.105263157894736 min_samples = 7 number of clusters = 1 moving on ..\n",
      " at iteration: 46 ep = 17.105263157894736 min_samples = 8 number of clusters = 1 moving on ..\n",
      " at iteration: 47 ep = 17.105263157894736 min_samples = 9 number of clusters = 1 moving on ..\n",
      " at iteration: 48 ep = 17.105263157894736 min_samples = 10 number of clusters = 1 moving on ..\n",
      " at iteration: 49 ep = 17.105263157894736 min_samples = 11 number of clusters = 1 moving on ..\n",
      " at iteration: 50 score: 0.7856971603974794 Number of clusters: 2\n",
      " at iteration: 51 ep = 17.63157894736842 min_samples = 3 number of clusters = 1 moving on ..\n",
      " at iteration: 52 ep = 17.63157894736842 min_samples = 4 number of clusters = 1 moving on ..\n",
      " at iteration: 53 ep = 17.63157894736842 min_samples = 5 number of clusters = 1 moving on ..\n",
      " at iteration: 54 ep = 17.63157894736842 min_samples = 6 number of clusters = 1 moving on ..\n",
      " at iteration: 55 ep = 17.63157894736842 min_samples = 7 number of clusters = 1 moving on ..\n",
      " at iteration: 56 ep = 17.63157894736842 min_samples = 8 number of clusters = 1 moving on ..\n",
      " at iteration: 57 ep = 17.63157894736842 min_samples = 9 number of clusters = 1 moving on ..\n",
      " at iteration: 58 ep = 17.63157894736842 min_samples = 10 number of clusters = 1 moving on ..\n",
      " at iteration: 59 ep = 17.63157894736842 min_samples = 11 number of clusters = 1 moving on ..\n",
      " at iteration: 60 score: 0.7940319629902053 Number of clusters: 2\n",
      " at iteration: 61 score: 0.7940319629902053 Number of clusters: 2\n",
      " at iteration: 62 ep = 18.157894736842106 min_samples = 4 number of clusters = 1 moving on ..\n",
      " at iteration: 63 ep = 18.157894736842106 min_samples = 5 number of clusters = 1 moving on ..\n",
      " at iteration: 64 ep = 18.157894736842106 min_samples = 6 number of clusters = 1 moving on ..\n",
      " at iteration: 65 ep = 18.157894736842106 min_samples = 7 number of clusters = 1 moving on ..\n",
      " at iteration: 66 ep = 18.157894736842106 min_samples = 8 number of clusters = 1 moving on ..\n",
      " at iteration: 67 ep = 18.157894736842106 min_samples = 9 number of clusters = 1 moving on ..\n",
      " at iteration: 68 ep = 18.157894736842106 min_samples = 10 number of clusters = 1 moving on ..\n",
      " at iteration: 69 ep = 18.157894736842106 min_samples = 11 number of clusters = 1 moving on ..\n",
      " at iteration: 70 score: 0.7311248724876365 Number of clusters: 3\n",
      " at iteration: 71 score: 0.7964702720125141 Number of clusters: 2\n",
      " at iteration: 72 ep = 18.684210526315788 min_samples = 4 number of clusters = 1 moving on ..\n",
      " at iteration: 73 ep = 18.684210526315788 min_samples = 5 number of clusters = 1 moving on ..\n",
      " at iteration: 74 ep = 18.684210526315788 min_samples = 6 number of clusters = 1 moving on ..\n",
      " at iteration: 75 ep = 18.684210526315788 min_samples = 7 number of clusters = 1 moving on ..\n",
      " at iteration: 76 ep = 18.684210526315788 min_samples = 8 number of clusters = 1 moving on ..\n",
      " at iteration: 77 ep = 18.684210526315788 min_samples = 9 number of clusters = 1 moving on ..\n",
      " at iteration: 78 ep = 18.684210526315788 min_samples = 10 number of clusters = 1 moving on ..\n",
      " at iteration: 79 ep = 18.684210526315788 min_samples = 11 number of clusters = 1 moving on ..\n",
      " at iteration: 80 score: 0.7310243977435376 Number of clusters: 3\n",
      " at iteration: 81 score: 0.7970503438092877 Number of clusters: 2\n",
      " at iteration: 82 ep = 19.210526315789473 min_samples = 4 number of clusters = 1 moving on ..\n",
      " at iteration: 83 ep = 19.210526315789473 min_samples = 5 number of clusters = 1 moving on ..\n",
      " at iteration: 84 ep = 19.210526315789473 min_samples = 6 number of clusters = 1 moving on ..\n",
      " at iteration: 85 ep = 19.210526315789473 min_samples = 7 number of clusters = 1 moving on ..\n",
      " at iteration: 86 ep = 19.210526315789473 min_samples = 8 number of clusters = 1 moving on ..\n",
      " at iteration: 87 ep = 19.210526315789473 min_samples = 9 number of clusters = 1 moving on ..\n",
      " at iteration: 88 ep = 19.210526315789473 min_samples = 10 number of clusters = 1 moving on ..\n",
      " at iteration: 89 ep = 19.210526315789473 min_samples = 11 number of clusters = 1 moving on ..\n",
      " at iteration: 90 ep = 19.736842105263158 min_samples = 2 number of clusters = 1 moving on ..\n",
      " at iteration: 91 ep = 19.736842105263158 min_samples = 3 number of clusters = 1 moving on ..\n",
      " at iteration: 92 ep = 19.736842105263158 min_samples = 4 number of clusters = 1 moving on ..\n",
      " at iteration: 93 ep = 19.736842105263158 min_samples = 5 number of clusters = 1 moving on ..\n",
      " at iteration: 94 ep = 19.736842105263158 min_samples = 6 number of clusters = 1 moving on ..\n",
      " at iteration: 95 ep = 19.736842105263158 min_samples = 7 number of clusters = 1 moving on ..\n",
      " at iteration: 96 ep = 19.736842105263158 min_samples = 8 number of clusters = 1 moving on ..\n",
      " at iteration: 97 ep = 19.736842105263158 min_samples = 9 number of clusters = 1 moving on ..\n",
      " at iteration: 98 ep = 19.736842105263158 min_samples = 10 number of clusters = 1 moving on ..\n",
      " at iteration: 99 ep = 19.736842105263158 min_samples = 11 number of clusters = 1 moving on ..\n",
      " at iteration: 100 ep = 20.263157894736842 min_samples = 2 number of clusters = 1 moving on ..\n",
      " at iteration: 101 ep = 20.263157894736842 min_samples = 3 number of clusters = 1 moving on ..\n",
      " at iteration: 102 ep = 20.263157894736842 min_samples = 4 number of clusters = 1 moving on ..\n",
      " at iteration: 103 ep = 20.263157894736842 min_samples = 5 number of clusters = 1 moving on ..\n",
      " at iteration: 104 ep = 20.263157894736842 min_samples = 6 number of clusters = 1 moving on ..\n",
      " at iteration: 105 ep = 20.263157894736842 min_samples = 7 number of clusters = 1 moving on ..\n",
      " at iteration: 106 ep = 20.263157894736842 min_samples = 8 number of clusters = 1 moving on ..\n",
      " at iteration: 107 ep = 20.263157894736842 min_samples = 9 number of clusters = 1 moving on ..\n",
      " at iteration: 108 ep = 20.263157894736842 min_samples = 10 number of clusters = 1 moving on ..\n",
      " at iteration: 109 ep = 20.263157894736842 min_samples = 11 number of clusters = 1 moving on ..\n",
      " at iteration: 110 ep = 20.789473684210527 min_samples = 2 number of clusters = 1 moving on ..\n",
      " at iteration: 111 ep = 20.789473684210527 min_samples = 3 number of clusters = 1 moving on ..\n",
      " at iteration: 112 ep = 20.789473684210527 min_samples = 4 number of clusters = 1 moving on ..\n",
      " at iteration: 113 ep = 20.789473684210527 min_samples = 5 number of clusters = 1 moving on ..\n",
      " at iteration: 114 ep = 20.789473684210527 min_samples = 6 number of clusters = 1 moving on ..\n",
      " at iteration: 115 ep = 20.789473684210527 min_samples = 7 number of clusters = 1 moving on ..\n",
      " at iteration: 116 ep = 20.789473684210527 min_samples = 8 number of clusters = 1 moving on ..\n",
      " at iteration: 117 ep = 20.789473684210527 min_samples = 9 number of clusters = 1 moving on ..\n",
      " at iteration: 118 ep = 20.789473684210527 min_samples = 10 number of clusters = 1 moving on ..\n",
      " at iteration: 119 ep = 20.789473684210527 min_samples = 11 number of clusters = 1 moving on ..\n",
      " at iteration: 120 ep = 21.315789473684212 min_samples = 2 number of clusters = 1 moving on ..\n",
      " at iteration: 121 ep = 21.315789473684212 min_samples = 3 number of clusters = 1 moving on ..\n",
      " at iteration: 122 ep = 21.315789473684212 min_samples = 4 number of clusters = 1 moving on ..\n",
      " at iteration: 123 ep = 21.315789473684212 min_samples = 5 number of clusters = 1 moving on ..\n",
      " at iteration: 124 ep = 21.315789473684212 min_samples = 6 number of clusters = 1 moving on ..\n",
      " at iteration: 125 ep = 21.315789473684212 min_samples = 7 number of clusters = 1 moving on ..\n",
      " at iteration: 126 ep = 21.315789473684212 min_samples = 8 number of clusters = 1 moving on ..\n",
      " at iteration: 127 ep = 21.315789473684212 min_samples = 9 number of clusters = 1 moving on ..\n",
      " at iteration: 128 ep = 21.315789473684212 min_samples = 10 number of clusters = 1 moving on ..\n",
      " at iteration: 129 ep = 21.315789473684212 min_samples = 11 number of clusters = 1 moving on ..\n",
      " at iteration: 130 score: 0.8049916418618785 Number of clusters: 2\n",
      " at iteration: 131 ep = 21.842105263157894 min_samples = 3 number of clusters = 1 moving on ..\n",
      " at iteration: 132 ep = 21.842105263157894 min_samples = 4 number of clusters = 1 moving on ..\n",
      " at iteration: 133 ep = 21.842105263157894 min_samples = 5 number of clusters = 1 moving on ..\n",
      " at iteration: 134 ep = 21.842105263157894 min_samples = 6 number of clusters = 1 moving on ..\n",
      " at iteration: 135 ep = 21.842105263157894 min_samples = 7 number of clusters = 1 moving on ..\n",
      " at iteration: 136 ep = 21.842105263157894 min_samples = 8 number of clusters = 1 moving on ..\n",
      " at iteration: 137 ep = 21.842105263157894 min_samples = 9 number of clusters = 1 moving on ..\n",
      " at iteration: 138 ep = 21.842105263157894 min_samples = 10 number of clusters = 1 moving on ..\n",
      " at iteration: 139 ep = 21.842105263157894 min_samples = 11 number of clusters = 1 moving on ..\n",
      " at iteration: 140 score: 0.8029788800515181 Number of clusters: 3\n",
      " at iteration: 141 ep = 22.36842105263158 min_samples = 3 number of clusters = 1 moving on ..\n",
      " at iteration: 142 ep = 22.36842105263158 min_samples = 4 number of clusters = 1 moving on ..\n",
      " at iteration: 143 ep = 22.36842105263158 min_samples = 5 number of clusters = 1 moving on ..\n",
      " at iteration: 144 ep = 22.36842105263158 min_samples = 6 number of clusters = 1 moving on ..\n",
      " at iteration: 145 ep = 22.36842105263158 min_samples = 7 number of clusters = 1 moving on ..\n",
      " at iteration: 146 ep = 22.36842105263158 min_samples = 8 number of clusters = 1 moving on ..\n",
      " at iteration: 147 ep = 22.36842105263158 min_samples = 9 number of clusters = 1 moving on ..\n",
      " at iteration: 148 ep = 22.36842105263158 min_samples = 10 number of clusters = 1 moving on ..\n",
      " at iteration: 149 ep = 22.36842105263158 min_samples = 11 number of clusters = 1 moving on ..\n",
      " at iteration: 150 ep = 22.894736842105264 min_samples = 2 number of clusters = 1 moving on ..\n",
      " at iteration: 151 ep = 22.894736842105264 min_samples = 3 number of clusters = 1 moving on ..\n",
      " at iteration: 152 ep = 22.894736842105264 min_samples = 4 number of clusters = 1 moving on ..\n",
      " at iteration: 153 ep = 22.894736842105264 min_samples = 5 number of clusters = 1 moving on ..\n",
      " at iteration: 154 ep = 22.894736842105264 min_samples = 6 number of clusters = 1 moving on ..\n",
      " at iteration: 155 ep = 22.894736842105264 min_samples = 7 number of clusters = 1 moving on ..\n",
      " at iteration: 156 ep = 22.894736842105264 min_samples = 8 number of clusters = 1 moving on ..\n",
      " at iteration: 157 ep = 22.894736842105264 min_samples = 9 number of clusters = 1 moving on ..\n",
      " at iteration: 158 ep = 22.894736842105264 min_samples = 10 number of clusters = 1 moving on ..\n",
      " at iteration: 159 ep = 22.894736842105264 min_samples = 11 number of clusters = 1 moving on ..\n",
      " at iteration: 160 ep = 23.421052631578945 min_samples = 2 number of clusters = 1 moving on ..\n",
      " at iteration: 161 ep = 23.421052631578945 min_samples = 3 number of clusters = 1 moving on ..\n",
      " at iteration: 162 ep = 23.421052631578945 min_samples = 4 number of clusters = 1 moving on ..\n",
      " at iteration: 163 ep = 23.421052631578945 min_samples = 5 number of clusters = 1 moving on ..\n",
      " at iteration: 164 ep = 23.421052631578945 min_samples = 6 number of clusters = 1 moving on ..\n",
      " at iteration: 165 ep = 23.421052631578945 min_samples = 7 number of clusters = 1 moving on ..\n",
      " at iteration: 166 ep = 23.421052631578945 min_samples = 8 number of clusters = 1 moving on ..\n",
      " at iteration: 167 ep = 23.421052631578945 min_samples = 9 number of clusters = 1 moving on ..\n",
      " at iteration: 168 ep = 23.421052631578945 min_samples = 10 number of clusters = 1 moving on ..\n",
      " at iteration: 169 ep = 23.421052631578945 min_samples = 11 number of clusters = 1 moving on ..\n",
      " at iteration: 170 ep = 23.94736842105263 min_samples = 2 number of clusters = 1 moving on ..\n",
      " at iteration: 171 ep = 23.94736842105263 min_samples = 3 number of clusters = 1 moving on ..\n",
      " at iteration: 172 ep = 23.94736842105263 min_samples = 4 number of clusters = 1 moving on ..\n",
      " at iteration: 173 ep = 23.94736842105263 min_samples = 5 number of clusters = 1 moving on ..\n",
      " at iteration: 174 ep = 23.94736842105263 min_samples = 6 number of clusters = 1 moving on ..\n",
      " at iteration: 175 ep = 23.94736842105263 min_samples = 7 number of clusters = 1 moving on ..\n",
      " at iteration: 176 ep = 23.94736842105263 min_samples = 8 number of clusters = 1 moving on ..\n",
      " at iteration: 177 ep = 23.94736842105263 min_samples = 9 number of clusters = 1 moving on ..\n",
      " at iteration: 178 ep = 23.94736842105263 min_samples = 10 number of clusters = 1 moving on ..\n",
      " at iteration: 179 ep = 23.94736842105263 min_samples = 11 number of clusters = 1 moving on ..\n",
      " at iteration: 180 ep = 24.473684210526315 min_samples = 2 number of clusters = 1 moving on ..\n",
      " at iteration: 181 ep = 24.473684210526315 min_samples = 3 number of clusters = 1 moving on ..\n",
      " at iteration: 182 ep = 24.473684210526315 min_samples = 4 number of clusters = 1 moving on ..\n",
      " at iteration: 183 ep = 24.473684210526315 min_samples = 5 number of clusters = 1 moving on ..\n",
      " at iteration: 184 ep = 24.473684210526315 min_samples = 6 number of clusters = 1 moving on ..\n",
      " at iteration: 185 ep = 24.473684210526315 min_samples = 7 number of clusters = 1 moving on ..\n",
      " at iteration: 186 ep = 24.473684210526315 min_samples = 8 number of clusters = 1 moving on ..\n",
      " at iteration: 187 ep = 24.473684210526315 min_samples = 9 number of clusters = 1 moving on ..\n",
      " at iteration: 188 ep = 24.473684210526315 min_samples = 10 number of clusters = 1 moving on ..\n",
      " at iteration: 189 ep = 24.473684210526315 min_samples = 11 number of clusters = 1 moving on ..\n",
      " at iteration: 190 ep = 25.0 min_samples = 2 number of clusters = 1 moving on ..\n",
      " at iteration: 191 ep = 25.0 min_samples = 3 number of clusters = 1 moving on ..\n",
      " at iteration: 192 ep = 25.0 min_samples = 4 number of clusters = 1 moving on ..\n",
      " at iteration: 193 ep = 25.0 min_samples = 5 number of clusters = 1 moving on ..\n",
      " at iteration: 194 ep = 25.0 min_samples = 6 number of clusters = 1 moving on ..\n",
      " at iteration: 195 ep = 25.0 min_samples = 7 number of clusters = 1 moving on ..\n",
      " at iteration: 196 ep = 25.0 min_samples = 8 number of clusters = 1 moving on ..\n",
      " at iteration: 197 ep = 25.0 min_samples = 9 number of clusters = 1 moving on ..\n",
      " at iteration: 198 ep = 25.0 min_samples = 10 number of clusters = 1 moving on ..\n",
      " at iteration: 199 ep = 25.0 min_samples = 11 number of clusters = 1 moving on ..\n"
     ]
    }
   ],
   "source": [
    "# perform grid search\n",
    "best_params = GridSearch(combinations, data_scaled)"
   ]
  },
  {
   "cell_type": "code",
   "execution_count": 42,
   "metadata": {},
   "outputs": [
    {
     "name": "stdout",
     "output_type": "stream",
     "text": [
      "{'best_epsilon': 21.842105263157894, 'best_min_samples': 2, 'best_labels': array([0, 0, 0, ..., 0, 0, 0]), 'best_score': 0.8049916418618785}\n"
     ]
    }
   ],
   "source": [
    "# display the best parameters\n",
    "print(best_params)"
   ]
  },
  {
   "cell_type": "code",
   "execution_count": 43,
   "metadata": {},
   "outputs": [],
   "source": [
    "# build the DBSCAN model with the best parameters\n",
    "dbscan_final = DBSCAN(eps=21.842105263157894, min_samples=2)\n",
    "clusters = dbscan_final.fit_predict(data_scaled)"
   ]
  },
  {
   "cell_type": "code",
   "execution_count": 44,
   "metadata": {},
   "outputs": [
    {
     "name": "stdout",
     "output_type": "stream",
     "text": [
      "Outliers removed: 75\n"
     ]
    }
   ],
   "source": [
    "# identify and remove outliers\n",
    "outliers = data_scaled[clusters == -1]  \n",
    "print(f\"Outliers removed: {len(outliers)}\")\n"
   ]
  },
  {
   "cell_type": "code",
   "execution_count": 45,
   "metadata": {},
   "outputs": [
    {
     "data": {
      "image/png": "[encoded data removed]",
      "text/plain": [
       "<Figure size 640x480 with 1 Axes>"
      ]
     },
     "metadata": {},
     "output_type": "display_data"
    }
   ],
   "source": [
    "plt.scatter(data_scaled[:, 0], data_scaled[:, 1], c='blue', label='Inliers')\n",
    "plt.scatter(outliers[:, 0], outliers[:, 1], c='red', label='Outliers')\n",
    "plt.title('DBSCAN Outlier Removal')\n",
    "plt.xlabel('Feature 1')\n",
    "plt.ylabel('Feature 2')\n",
    "plt.legend()\n",
    "plt.show()\n",
    "\n",
    "###### transparencia to improve"
   ]
  },
  {
   "cell_type": "code",
   "execution_count": 46,
   "metadata": {},
   "outputs": [
    {
     "name": "stdout",
     "output_type": "stream",
     "text": [
      "Percentage of data identified as outliers: 0.24%\n"
     ]
    }
   ],
   "source": [
    "# calculate the percentage of data that are outliers\n",
    "outliers_percentage = (len(outliers) / len(data_scaled)) * 100\n",
    "print(f\"Percentage of data identified as outliers: {outliers_percentage:.2f}%\")"
   ]
  },
  {
   "cell_type": "code",
   "execution_count": 47,
   "metadata": {},
   "outputs": [],
   "source": [
    "df_no_outliers = df_customers[clusters != -1]"
   ]
  },
  {
   "cell_type": "code",
   "execution_count": 48,
   "metadata": {},
   "outputs": [],
   "source": [
    "df_no_outliers.to_csv('df2.csv', index=True)"
   ]
  },
  {
   "cell_type": "code",
   "execution_count": 49,
   "metadata": {},
   "outputs": [
    {
     "data": {
      "text/html": [
       "<div>\n",
       "<style scoped>\n",
       "    .dataframe tbody tr th:only-of-type {\n",
       "        vertical-align: middle;\n",
       "    }\n",
       "\n",
       "    .dataframe tbody tr th {\n",
       "        vertical-align: top;\n",
       "    }\n",
       "\n",
       "    .dataframe thead th {\n",
       "        text-align: right;\n",
       "    }\n",
       "</style>\n",
       "<table border=\"1\" class=\"dataframe\">\n",
       "  <thead>\n",
       "    <tr style=\"text-align: right;\">\n",
       "      <th></th>\n",
       "      <th>customer_age</th>\n",
       "      <th>vendor_count</th>\n",
       "      <th>product_count</th>\n",
       "      <th>is_chain</th>\n",
       "      <th>first_order</th>\n",
       "      <th>last_order</th>\n",
       "      <th>last_promo</th>\n",
       "      <th>payment_method</th>\n",
       "      <th>CUI_American</th>\n",
       "      <th>CUI_Asian</th>\n",
       "      <th>...</th>\n",
       "      <th>customer_lifecycle_stage</th>\n",
       "      <th>vendor_loyalty_score</th>\n",
       "      <th>peak_order_day</th>\n",
       "      <th>peak_order_hour</th>\n",
       "      <th>cuisine_variety</th>\n",
       "      <th>available_cuisines_city</th>\n",
       "      <th>relative_cuisine_variety</th>\n",
       "      <th>average_spending</th>\n",
       "      <th>order_frequency</th>\n",
       "      <th>chain_consumption</th>\n",
       "    </tr>\n",
       "    <tr>\n",
       "      <th>customer_id</th>\n",
       "      <th></th>\n",
       "      <th></th>\n",
       "      <th></th>\n",
       "      <th></th>\n",
       "      <th></th>\n",
       "      <th></th>\n",
       "      <th></th>\n",
       "      <th></th>\n",
       "      <th></th>\n",
       "      <th></th>\n",
       "      <th></th>\n",
       "      <th></th>\n",
       "      <th></th>\n",
       "      <th></th>\n",
       "      <th></th>\n",
       "      <th></th>\n",
       "      <th></th>\n",
       "      <th></th>\n",
       "      <th></th>\n",
       "      <th></th>\n",
       "      <th></th>\n",
       "    </tr>\n",
       "  </thead>\n",
       "  <tbody>\n",
       "    <tr>\n",
       "      <th>1b8f824d5e</th>\n",
       "      <td>18.0</td>\n",
       "      <td>2</td>\n",
       "      <td>5</td>\n",
       "      <td>1</td>\n",
       "      <td>0.0</td>\n",
       "      <td>1</td>\n",
       "      <td>DELIVERY</td>\n",
       "      <td>DIGI</td>\n",
       "      <td>0.00</td>\n",
       "      <td>0.00</td>\n",
       "      <td>...</td>\n",
       "      <td>Active</td>\n",
       "      <td>0.5</td>\n",
       "      <td>DOW_0</td>\n",
       "      <td>HR_18</td>\n",
       "      <td>1</td>\n",
       "      <td>15</td>\n",
       "      <td>0.066667</td>\n",
       "      <td>14.440</td>\n",
       "      <td>2.0</td>\n",
       "      <td>0.5</td>\n",
       "    </tr>\n",
       "    <tr>\n",
       "      <th>5d272b9dcb</th>\n",
       "      <td>17.0</td>\n",
       "      <td>2</td>\n",
       "      <td>2</td>\n",
       "      <td>2</td>\n",
       "      <td>0.0</td>\n",
       "      <td>1</td>\n",
       "      <td>DISCOUNT</td>\n",
       "      <td>DIGI</td>\n",
       "      <td>12.82</td>\n",
       "      <td>6.39</td>\n",
       "      <td>...</td>\n",
       "      <td>Active</td>\n",
       "      <td>0.5</td>\n",
       "      <td>DOW_0</td>\n",
       "      <td>HR_10</td>\n",
       "      <td>2</td>\n",
       "      <td>8</td>\n",
       "      <td>0.250000</td>\n",
       "      <td>9.605</td>\n",
       "      <td>2.0</td>\n",
       "      <td>1.0</td>\n",
       "    </tr>\n",
       "    <tr>\n",
       "      <th>f6d1b2ba63</th>\n",
       "      <td>38.0</td>\n",
       "      <td>1</td>\n",
       "      <td>2</td>\n",
       "      <td>2</td>\n",
       "      <td>0.0</td>\n",
       "      <td>1</td>\n",
       "      <td>DISCOUNT</td>\n",
       "      <td>CASH</td>\n",
       "      <td>9.20</td>\n",
       "      <td>0.00</td>\n",
       "      <td>...</td>\n",
       "      <td>Active</td>\n",
       "      <td>1.0</td>\n",
       "      <td>DOW_0</td>\n",
       "      <td>HR_9</td>\n",
       "      <td>1</td>\n",
       "      <td>12</td>\n",
       "      <td>0.083333</td>\n",
       "      <td>4.600</td>\n",
       "      <td>2.0</td>\n",
       "      <td>1.0</td>\n",
       "    </tr>\n",
       "    <tr>\n",
       "      <th>180c632ed8</th>\n",
       "      <td>26.0</td>\n",
       "      <td>2</td>\n",
       "      <td>3</td>\n",
       "      <td>1</td>\n",
       "      <td>0.0</td>\n",
       "      <td>2</td>\n",
       "      <td>DELIVERY</td>\n",
       "      <td>DIGI</td>\n",
       "      <td>0.00</td>\n",
       "      <td>13.70</td>\n",
       "      <td>...</td>\n",
       "      <td>Active</td>\n",
       "      <td>0.5</td>\n",
       "      <td>DOW_1</td>\n",
       "      <td>HR_11</td>\n",
       "      <td>2</td>\n",
       "      <td>12</td>\n",
       "      <td>0.166667</td>\n",
       "      <td>15.780</td>\n",
       "      <td>1.0</td>\n",
       "      <td>0.5</td>\n",
       "    </tr>\n",
       "    <tr>\n",
       "      <th>4eb37a6705</th>\n",
       "      <td>20.0</td>\n",
       "      <td>2</td>\n",
       "      <td>5</td>\n",
       "      <td>0</td>\n",
       "      <td>0.0</td>\n",
       "      <td>2</td>\n",
       "      <td>NO PROMO</td>\n",
       "      <td>DIGI</td>\n",
       "      <td>14.57</td>\n",
       "      <td>40.87</td>\n",
       "      <td>...</td>\n",
       "      <td>Active</td>\n",
       "      <td>0.5</td>\n",
       "      <td>DOW_1</td>\n",
       "      <td>HR_8</td>\n",
       "      <td>2</td>\n",
       "      <td>12</td>\n",
       "      <td>0.166667</td>\n",
       "      <td>27.720</td>\n",
       "      <td>1.0</td>\n",
       "      <td>0.0</td>\n",
       "    </tr>\n",
       "  </tbody>\n",
       "</table>\n",
       "<p>5 rows × 69 columns</p>\n",
       "</div>"
      ],
      "text/plain": [
       "             customer_age  vendor_count  product_count  is_chain  first_order  \\\n",
       "customer_id                                                                     \n",
       "1b8f824d5e           18.0             2              5         1          0.0   \n",
       "5d272b9dcb           17.0             2              2         2          0.0   \n",
       "f6d1b2ba63           38.0             1              2         2          0.0   \n",
       "180c632ed8           26.0             2              3         1          0.0   \n",
       "4eb37a6705           20.0             2              5         0          0.0   \n",
       "\n",
       "             last_order last_promo payment_method  CUI_American  CUI_Asian  \\\n",
       "customer_id                                                                  \n",
       "1b8f824d5e            1   DELIVERY           DIGI          0.00       0.00   \n",
       "5d272b9dcb            1   DISCOUNT           DIGI         12.82       6.39   \n",
       "f6d1b2ba63            1   DISCOUNT           CASH          9.20       0.00   \n",
       "180c632ed8            2   DELIVERY           DIGI          0.00      13.70   \n",
       "4eb37a6705            2   NO PROMO           DIGI         14.57      40.87   \n",
       "\n",
       "             ...  customer_lifecycle_stage  vendor_loyalty_score  \\\n",
       "customer_id  ...                                                   \n",
       "1b8f824d5e   ...                    Active                   0.5   \n",
       "5d272b9dcb   ...                    Active                   0.5   \n",
       "f6d1b2ba63   ...                    Active                   1.0   \n",
       "180c632ed8   ...                    Active                   0.5   \n",
       "4eb37a6705   ...                    Active                   0.5   \n",
       "\n",
       "             peak_order_day  peak_order_hour  cuisine_variety  \\\n",
       "customer_id                                                     \n",
       "1b8f824d5e            DOW_0            HR_18                1   \n",
       "5d272b9dcb            DOW_0            HR_10                2   \n",
       "f6d1b2ba63            DOW_0             HR_9                1   \n",
       "180c632ed8            DOW_1            HR_11                2   \n",
       "4eb37a6705            DOW_1             HR_8                2   \n",
       "\n",
       "             available_cuisines_city  relative_cuisine_variety  \\\n",
       "customer_id                                                      \n",
       "1b8f824d5e                        15                  0.066667   \n",
       "5d272b9dcb                         8                  0.250000   \n",
       "f6d1b2ba63                        12                  0.083333   \n",
       "180c632ed8                        12                  0.166667   \n",
       "4eb37a6705                        12                  0.166667   \n",
       "\n",
       "             average_spending  order_frequency  chain_consumption  \n",
       "customer_id                                                        \n",
       "1b8f824d5e             14.440              2.0                0.5  \n",
       "5d272b9dcb              9.605              2.0                1.0  \n",
       "f6d1b2ba63              4.600              2.0                1.0  \n",
       "180c632ed8             15.780              1.0                0.5  \n",
       "4eb37a6705             27.720              1.0                0.0  \n",
       "\n",
       "[5 rows x 69 columns]"
      ]
     },
     "execution_count": 49,
     "metadata": {},
     "output_type": "execute_result"
    }
   ],
   "source": [
    "df_no_outliers.head()"
   ]
  }
 ],
 "metadata": {
  "kernelspec": {
   "display_name": "DM2425",
   "language": "python",
   "name": "python3"
  },
  "language_info": {
   "codemirror_mode": {
    "name": "ipython",
    "version": 3
   },
   "file_extension": ".py",
   "mimetype": "text/x-python",
   "name": "python",
   "nbconvert_exporter": "python",
   "pygments_lexer": "ipython3",
   "version": "3.12.2"
  }
 },
 "nbformat": 4,
 "nbformat_minor": 2
}
