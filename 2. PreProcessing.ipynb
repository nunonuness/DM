{
 "cells": [
  {
   "cell_type": "markdown",
   "metadata": {},
   "source": [
    "<div style=\"background-color: #ffffff; color: #333; padding: 15px; border: 1px solid #ddd; border-radius: 8px;\">\n",
    "    <a class=\"anchor\" id=\"1st-bullet\"></a>\n",
    "    <h2 style=\"color: #795548; font-weight: bold; text-align: center;\">Group Project - Data Preprocessing</h2>\n",
    "    <h3 style=\"color: #a1887f; text-align: center;\">Data Mining 2024/2025</h3>\n",
    "</div>"
   ]
  },
  {
   "cell_type": "markdown",
   "metadata": {},
   "source": [
    "<div style=\"text-align: center;\">\n",
    "    <strong>Group 14</strong>\n",
    "    <table style=\"margin: 0 auto; border-collapse: collapse; border: 1px solid black;\">\n",
    "        <tr>\n",
    "            <th style=\"border: 1px solid white; padding: 8px;\">Name</th>\n",
    "            <th style=\"border: 1px solid white; padding: 8px;\">Student ID</th>\n",
    "        </tr>\n",
    "        <tr>\n",
    "            <td style=\"border: 1px solid white; padding: 8px;\">Francisco Santos</td>\n",
    "            <td style=\"border: 1px solid white; padding: 8px;\">20240562</td>\n",
    "        </tr>\n",
    "        <tr>\n",
    "            <td style=\"border: 1px solid white; padding: 8px;\">Margarida Raposo</td>\n",
    "            <td style=\"border: 1px solid white; padding: 8px;\">20241020</td>\n",
    "        </tr>\n",
    "        <tr>\n",
    "            <td style=\"border: 1px solid white; padding: 8px;\">Nuno Nunes</td>\n",
    "            <td style=\"border: 1px solid white; padding: 8px;\">20240560</td>\n",
    "        </tr>\n",
    "        <tr>\n",
    "            <td style=\"border: 1px solid white; padding: 8px;\">Teresa Menezes</td>\n",
    "            <td style=\"border: 1px solid white; padding: 8px;\">20240333</td>\n",
    "        </tr>\n",
    "    </table>\n",
    "</div>"
   ]
  },
  {
   "cell_type": "markdown",
   "metadata": {},
   "source": [
    "### **Structure**\n",
    "\n",
    "1. [Data Preparation](#data-preparation)\n",
    "2. [Missing Values](#missing-values)\n",
    "3. [Outliers](#outliers)\n",
    "   1. [DBSCAN](#dbscan)\n",
    "4. [Prepare Notebook for Clustering](#prepare-notebook-for-clustering)\n"
   ]
  },
  {
   "cell_type": "code",
   "execution_count": 1,
   "metadata": {},
   "outputs": [],
   "source": [
    "import pandas as pd\n",
    "import numpy as np\n",
    "\n",
    "# Import matplotlib.pyplot and seaborn for data visualization\n",
    "import matplotlib.pyplot as plt\n",
    "import seaborn as sns\n",
    "\n",
    "# Import os for operating system dependent functionality\n",
    "import os\n",
    "\n",
    "# Import ceil from math for ceiling function\n",
    "from math import ceil\n",
    "\n",
    "# Import stats from scipy for statistical functions\n",
    "from scipy import stats\n",
    "\n",
    "# Import warnings to handle warnings\n",
    "import warnings\n",
    "\n",
    "# Import MinMaxScaler from sklearn.preprocessing for feature scaling\n",
    "from sklearn.preprocessing import MinMaxScaler\n",
    "\n",
    "# Import NearestNeighbors from sklearn.neighbors for nearest neighbors search\n",
    "from sklearn.neighbors import NearestNeighbors\n",
    "\n",
    "# Import KneeLocator from kneed to find the \"elbow\" point in k-distance graph\n",
    "from kneed import KneeLocator\n",
    "\n",
    "# Import DBSCAN from sklearn.cluster for DBSCAN clustering\n",
    "from sklearn.cluster import DBSCAN\n",
    "\n",
    "# Import silhouette_score from sklearn.metrics to evaluate clustering quality\n",
    "from sklearn.metrics import silhouette_score\n",
    "\n",
    "# Import itertools for efficient looping\n",
    "import itertools"
   ]
  },
  {
   "cell_type": "markdown",
   "metadata": {},
   "source": [
    "Import Data "
   ]
  },
  {
   "cell_type": "code",
   "execution_count": 2,
   "metadata": {},
   "outputs": [],
   "source": [
    "df = pd.read_csv('df1.csv', index_col='customer_id')"
   ]
  },
  {
   "cell_type": "markdown",
   "metadata": {},
   "source": [
    "## Data Preparation\n",
    "<a name=\"data-preparation\"></a>"
   ]
  },
  {
   "cell_type": "code",
   "execution_count": 3,
   "metadata": {},
   "outputs": [],
   "source": [
    "# exclude customers with no orders\n",
    "no_orders = df.loc[:, 'DOW_0':'DOW_6'].sum(axis=1) == 0\n",
    "no_orders = df[no_orders]"
   ]
  },
  {
   "cell_type": "code",
   "execution_count": 4,
   "metadata": {},
   "outputs": [],
   "source": [
    "# new dataframe with only customers who have ordered\n",
    "df_customers = df[~df.index.isin(no_orders.index)]"
   ]
  },
  {
   "cell_type": "markdown",
   "metadata": {},
   "source": [
    "## Missing Values\n",
    "<a name=\"missing-values\"></a>"
   ]
  },
  {
   "cell_type": "code",
   "execution_count": 5,
   "metadata": {},
   "outputs": [],
   "source": [
    "# replace '-' with NaN\n",
    "df_customers = df_customers.replace('-', np.nan)"
   ]
  },
  {
   "cell_type": "code",
   "execution_count": 6,
   "metadata": {},
   "outputs": [
    {
     "data": {
      "text/html": [
       "<div>\n",
       "<style scoped>\n",
       "    .dataframe tbody tr th:only-of-type {\n",
       "        vertical-align: middle;\n",
       "    }\n",
       "\n",
       "    .dataframe tbody tr th {\n",
       "        vertical-align: top;\n",
       "    }\n",
       "\n",
       "    .dataframe thead th {\n",
       "        text-align: right;\n",
       "    }\n",
       "</style>\n",
       "<table border=\"1\" class=\"dataframe\">\n",
       "  <thead>\n",
       "    <tr style=\"text-align: right;\">\n",
       "      <th></th>\n",
       "      <th>Total NaN</th>\n",
       "      <th>Percentage NaN</th>\n",
       "    </tr>\n",
       "  </thead>\n",
       "  <tbody>\n",
       "    <tr>\n",
       "      <th>last_promo</th>\n",
       "      <td>16671</td>\n",
       "      <td>52.61</td>\n",
       "    </tr>\n",
       "    <tr>\n",
       "      <th>customer_age</th>\n",
       "      <td>727</td>\n",
       "      <td>2.29</td>\n",
       "    </tr>\n",
       "    <tr>\n",
       "      <th>age_group</th>\n",
       "      <td>727</td>\n",
       "      <td>2.29</td>\n",
       "    </tr>\n",
       "    <tr>\n",
       "      <th>customer_region</th>\n",
       "      <td>442</td>\n",
       "      <td>1.39</td>\n",
       "    </tr>\n",
       "    <tr>\n",
       "      <th>first_order</th>\n",
       "      <td>106</td>\n",
       "      <td>0.33</td>\n",
       "    </tr>\n",
       "  </tbody>\n",
       "</table>\n",
       "</div>"
      ],
      "text/plain": [
       "                 Total NaN  Percentage NaN\n",
       "last_promo           16671           52.61\n",
       "customer_age           727            2.29\n",
       "age_group              727            2.29\n",
       "customer_region        442            1.39\n",
       "first_order            106            0.33"
      ]
     },
     "execution_count": 6,
     "metadata": {},
     "output_type": "execute_result"
    }
   ],
   "source": [
    "# get the total number of NaN values for each column\n",
    "total_nan = df_customers.isna().sum().sort_values(ascending=False)\n",
    "\n",
    "# get the percentage of NaN values for each column\n",
    "percent_nan = ((total_nan / len(df_customers)) * 100).round(2)\n",
    "\n",
    "# create a DataFrame to display the total and percentage of NaN values for each column\n",
    "nan_stats = pd.DataFrame({'Total NaN': total_nan, 'Percentage NaN': percent_nan})\n",
    "\n",
    "# no need to display columns with no NaN values\n",
    "nan_stats = nan_stats[nan_stats['Total NaN'] > 0]\n",
    "\n",
    "nan_stats"
   ]
  },
  {
   "cell_type": "markdown",
   "metadata": {},
   "source": [
    "- last_promo has more than half of missing values\n",
    "\n",
    "- All the other variables have low %, so lets use imputation\n",
    "\n",
    "- Same % for 'customer_age' and 'age_group' -> NaN values in age_group are probably due to missing values in customer_age"
   ]
  },
  {
   "cell_type": "markdown",
   "metadata": {},
   "source": [
    "**Last Promo**"
   ]
  },
  {
   "cell_type": "code",
   "execution_count": 7,
   "metadata": {},
   "outputs": [
    {
     "name": "stderr",
     "output_type": "stream",
     "text": [
      "/var/folders/hw/2p89gqtx3hld0n6c10zj8b4w0000gn/T/ipykernel_70001/569125011.py:2: FutureWarning: A value is trying to be set on a copy of a DataFrame or Series through chained assignment using an inplace method.\n",
      "The behavior will change in pandas 3.0. This inplace method will never work because the intermediate object on which we are setting values always behaves as a copy.\n",
      "\n",
      "For example, when doing 'df[col].method(value, inplace=True)', try using 'df.method({col: value}, inplace=True)' or df[col] = df[col].method(value) instead, to perform the operation inplace on the original object.\n",
      "\n",
      "\n",
      "  df_customers['last_promo'].fillna('NO PROMO', inplace=True)\n"
     ]
    }
   ],
   "source": [
    "# let's substitute missing values with 'no promo'\n",
    "df_customers['last_promo'].fillna('NO PROMO', inplace=True)"
   ]
  },
  {
   "cell_type": "markdown",
   "metadata": {},
   "source": [
    "**Customer Age and Age Group**"
   ]
  },
  {
   "cell_type": "code",
   "execution_count": 8,
   "metadata": {},
   "outputs": [
    {
     "name": "stdout",
     "output_type": "stream",
     "text": [
      "Are all missing age_group values tied to missing customer_age? True\n"
     ]
    }
   ],
   "source": [
    "# check if missing age_group aligns with missing customer_age\n",
    "missing_consistency = df_customers[df_customers['customer_age'].isnull()]['age_group'].isnull().all()\n",
    "print(f\"Are all missing age_group values tied to missing customer_age? {missing_consistency}\")"
   ]
  },
  {
   "cell_type": "code",
   "execution_count": 9,
   "metadata": {},
   "outputs": [
    {
     "data": {
      "text/plain": [
       "Text(0.5, 1.0, 'Distribution of Customer Age')"
      ]
     },
     "execution_count": 9,
     "metadata": {},
     "output_type": "execute_result"
    },
    {
     "data": {
      "image/png": "[encoded data removed]",
      "text/plain": [
       "<Figure size 640x480 with 1 Axes>"
      ]
     },
     "metadata": {},
     "output_type": "display_data"
    }
   ],
   "source": [
    "# get distribution of the 'customer_age' column\n",
    "sns.histplot(df_customers['customer_age'], kde=True, color='blue')\n",
    "plt.title('Distribution of Customer Age')\n"
   ]
  },
  {
   "cell_type": "markdown",
   "metadata": {},
   "source": [
    "- Distribution is right-skewed, let's use the median over the mean"
   ]
  },
  {
   "cell_type": "code",
   "execution_count": 10,
   "metadata": {},
   "outputs": [],
   "source": [
    "# ignore warnings\n",
    "warnings.filterwarnings('ignore')\n",
    "\n",
    "# fill customer_age with the median value\n",
    "customer_age_median = df_customers['customer_age'].median()  # 26\n",
    "df_customers['customer_age'].fillna(customer_age_median, inplace=True)\n",
    "\n",
    "# fill age_group with the respective age group (21-30)\n",
    "df_customers['age_group'].fillna('21-30', inplace=True)"
   ]
  },
  {
   "cell_type": "markdown",
   "metadata": {},
   "source": [
    "**Customer Region**"
   ]
  },
  {
   "cell_type": "code",
   "execution_count": 11,
   "metadata": {},
   "outputs": [],
   "source": [
    "# since we created 'customer_city' we will drop this variable\n",
    "df_customers.drop(columns='customer_region', inplace=True)"
   ]
  },
  {
   "cell_type": "markdown",
   "metadata": {},
   "source": [
    "**First_Order** \n",
    "- Impute with the mean, median or mode doesn't make sense here. As those missing values represent 0.33% let's drop them"
   ]
  },
  {
   "cell_type": "code",
   "execution_count": 12,
   "metadata": {},
   "outputs": [],
   "source": [
    "# ignore warnings\n",
    "warnings.filterwarnings('ignore')\n",
    "\n",
    "# drop rows where first_order is missing\n",
    "df_customers.dropna(subset=['first_order'], inplace=True)"
   ]
  },
  {
   "cell_type": "markdown",
   "metadata": {},
   "source": [
    "## Outliers"
   ]
  },
  {
   "cell_type": "code",
   "execution_count": 13,
   "metadata": {},
   "outputs": [],
   "source": [
    "# columns which values range from 0 to 1 so they don't need to be scaled\n",
    "cols_range_0_1 = ['vendor_loyalty_score','relative_cuisine_variety', 'chain_consumption']\n",
    "\n",
    "# numerical features that represent categorical data\n",
    "num_cat_features = ['customer_city', 'available_cuisines_city', 'cuisine_variety']"
   ]
  },
  {
   "cell_type": "code",
   "execution_count": 15,
   "metadata": {},
   "outputs": [],
   "source": [
    "# get metric features\n",
    "metric_features = df_customers.select_dtypes(include=[np.number]).columns.difference(num_cat_features + cols_range_0_1)\n",
    "# get non-metric features\n",
    "non_metric_features = df_customers.select_dtypes(exclude=[np.number]).columns"
   ]
  },
  {
   "cell_type": "code",
   "execution_count": 17,
   "metadata": {},
   "outputs": [],
   "source": [
    "# scale the metric features for DBSCAN\n",
    "scaler = MinMaxScaler()\n",
    "data_scaled = scaler.fit_transform(df_customers[metric_features])"
   ]
  },
  {
   "cell_type": "markdown",
   "metadata": {},
   "source": [
    "### 3.1 DBSCAN"
   ]
  },
  {
   "cell_type": "code",
   "execution_count": 18,
   "metadata": {},
   "outputs": [
    {
     "data": {
      "image/png": "[encoded data removed]",
      "text/plain": [
       "<Figure size 640x480 with 1 Axes>"
      ]
     },
     "metadata": {},
     "output_type": "display_data"
    },
    {
     "data": {
      "text/html": [
       "<div>\n",
       "<style scoped>\n",
       "    .dataframe tbody tr th:only-of-type {\n",
       "        vertical-align: middle;\n",
       "    }\n",
       "\n",
       "    .dataframe tbody tr th {\n",
       "        vertical-align: top;\n",
       "    }\n",
       "\n",
       "    .dataframe thead th {\n",
       "        text-align: right;\n",
       "    }\n",
       "</style>\n",
       "<table border=\"1\" class=\"dataframe\">\n",
       "  <thead>\n",
       "    <tr style=\"text-align: right;\">\n",
       "      <th></th>\n",
       "      <th>n_neighbors</th>\n",
       "      <th>Elbow Index</th>\n",
       "      <th>Epsilon</th>\n",
       "    </tr>\n",
       "  </thead>\n",
       "  <tbody>\n",
       "    <tr>\n",
       "      <th>0</th>\n",
       "      <td>2</td>\n",
       "      <td>31530</td>\n",
       "      <td>0.879009</td>\n",
       "    </tr>\n",
       "    <tr>\n",
       "      <th>1</th>\n",
       "      <td>3</td>\n",
       "      <td>31470</td>\n",
       "      <td>0.767117</td>\n",
       "    </tr>\n",
       "    <tr>\n",
       "      <th>2</th>\n",
       "      <td>4</td>\n",
       "      <td>31337</td>\n",
       "      <td>0.640417</td>\n",
       "    </tr>\n",
       "    <tr>\n",
       "      <th>3</th>\n",
       "      <td>5</td>\n",
       "      <td>31413</td>\n",
       "      <td>0.715630</td>\n",
       "    </tr>\n",
       "    <tr>\n",
       "      <th>4</th>\n",
       "      <td>10</td>\n",
       "      <td>31462</td>\n",
       "      <td>0.840211</td>\n",
       "    </tr>\n",
       "  </tbody>\n",
       "</table>\n",
       "</div>"
      ],
      "text/plain": [
       "   n_neighbors  Elbow Index   Epsilon\n",
       "0            2        31530  0.879009\n",
       "1            3        31470  0.767117\n",
       "2            4        31337  0.640417\n",
       "3            5        31413  0.715630\n",
       "4           10        31462  0.840211"
      ]
     },
     "execution_count": 18,
     "metadata": {},
     "output_type": "execute_result"
    }
   ],
   "source": [
    "# list of n_neighbors to test\n",
    "n_neighbors_list = [2, 3, 4, 5, 10]\n",
    "\n",
    "# empty lists to store results\n",
    "elbow_indices = []\n",
    "epsilons = []\n",
    "\n",
    "# perform calculations for each n_neighbors\n",
    "for n_neighbors in n_neighbors_list:\n",
    "    neigh = NearestNeighbors(n_neighbors=n_neighbors)\n",
    "    nbrs = neigh.fit(data_scaled)\n",
    "    distances, _ = nbrs.kneighbors(data_scaled)\n",
    "    distances = np.sort(distances[:, n_neighbors - 1], axis=0)\n",
    "\n",
    "    # use KneeLocator to find the elbow point\n",
    "    kneedle = KneeLocator(range(len(distances)), distances, curve='convex', direction='increasing')\n",
    "\n",
    "    # get elbow point and epsilon\n",
    "    elbow_index = kneedle.elbow\n",
    "    epsilon = distances[elbow_index]\n",
    "\n",
    "    # store results\n",
    "    elbow_indices.append(elbow_index)\n",
    "    epsilons.append(epsilon)\n",
    "\n",
    "    # highlight the elbow point on the graph for each n_neighbors\n",
    "    plt.plot(distances, label=f'n_neighbors={n_neighbors}')\n",
    "    plt.axvline(x=elbow_index, color='r', linestyle='--', label=f'Elbow Point (n={n_neighbors})')\n",
    "    plt.scatter(elbow_index, epsilon, color='red', label=f'Eps={epsilon:.2f} (n={n_neighbors})')\n",
    "\n",
    "# DataFrame to store the results\n",
    "df_results = pd.DataFrame({\n",
    "    'n_neighbors': n_neighbors_list,\n",
    "    'Elbow Index': elbow_indices,\n",
    "    'Epsilon': epsilons\n",
    "})\n",
    "\n",
    "# customize the graph\n",
    "plt.xlabel('Points sorted by distance')\n",
    "plt.ylabel('k-th Nearest Neighbor Distance')\n",
    "plt.title('k-Distance Graph for different n_neighbors')\n",
    "plt.legend()\n",
    "plt.show()\n",
    "\n",
    "df_results\n"
   ]
  },
  {
   "cell_type": "code",
   "execution_count": 24,
   "metadata": {},
   "outputs": [],
   "source": [
    "epsilon = np.linspace(0.6, 0.95, 20) # range of epsilon values to test based on table above\n",
    "min_samples = np.arange(2, 12) # range of min_samples values to test based on table above"
   ]
  },
  {
   "cell_type": "code",
   "execution_count": 25,
   "metadata": {},
   "outputs": [
    {
     "data": {
      "text/plain": [
       "200"
      ]
     },
     "execution_count": 25,
     "metadata": {},
     "output_type": "execute_result"
    }
   ],
   "source": [
    "# get all possible combinations of epsilon and min_samples\n",
    "combinations = list(itertools.product(epsilon, min_samples))\n",
    "N = len(combinations)\n",
    "N"
   ]
  },
  {
   "cell_type": "code",
   "execution_count": 26,
   "metadata": {},
   "outputs": [],
   "source": [
    "# function to perform grid search for DBSCAN\n",
    "def GridSearch(combinations, X):\n",
    "    scores = []  # list to store silhouette scores\n",
    "    all_label = []  # list to store labels for each combination\n",
    "\n",
    "    # iterate over each combination of eps and min_samples\n",
    "    for i, (eps, num_samples) in enumerate(combinations):\n",
    "        dbscan_model = DBSCAN(eps=eps, min_samples=num_samples).fit(X)\n",
    "        labels = dbscan_model.labels_  # get the cluster labels\n",
    "        labels_set = set(labels)  # convert labels to a set to find unique labels\n",
    "        num_clusters = len(labels_set)  # number of unique clusters\n",
    "\n",
    "        # adjust the number of clusters if noise points (-1) are present\n",
    "        if -1 in labels_set:\n",
    "            num_clusters -= 1\n",
    "\n",
    "        # check if the number of clusters is within the desired range\n",
    "        if (num_clusters < 2) or (num_clusters > 25):\n",
    "            scores.append(-20)  # poor score for undesirable cluster counts\n",
    "            all_label.append(\"Poor\")  \n",
    "            print(\" at iteration:\", i, \"eps =\", eps, \"min_samples =\", num_samples, \"number of clusters =\", num_clusters, \"moving on ..\")\n",
    "            continue \n",
    "\n",
    "        # get silhouette score for the current clustering\n",
    "        scores.append(silhouette_score(X, labels))\n",
    "        all_label.append(labels)  # Store the labels\n",
    "        print(\" at iteration:\", i, \"score:\", scores[-1], \"Number of clusters:\", num_clusters)\n",
    "\n",
    "    # find the index of the best score\n",
    "    best_index = np.argmax(scores)\n",
    "    best_parameters = combinations[best_index]  # get the best parameters\n",
    "    best_score = scores[best_index]  # get the best score\n",
    "\n",
    "    # Return the best parameters, labels, and score as a dictionary\n",
    "    return {\n",
    "        'best_epsilon': best_parameters[0],\n",
    "        'best_min_samples': best_parameters[1],\n",
    "        'best_score': best_score\n",
    "    }"
   ]
  },
  {
   "cell_type": "code",
   "execution_count": 29,
   "metadata": {},
   "outputs": [
    {
     "name": "stdout",
     "output_type": "stream",
     "text": [
      " at iteration: 0 score: 0.40397823485220175 Number of clusters: 3\n",
      " at iteration: 1 ep = 0.6 min_samples = 3 number of clusters = 1 moving on ..\n",
      " at iteration: 2 ep = 0.6 min_samples = 4 number of clusters = 1 moving on ..\n",
      " at iteration: 3 ep = 0.6 min_samples = 5 number of clusters = 1 moving on ..\n",
      " at iteration: 4 ep = 0.6 min_samples = 6 number of clusters = 1 moving on ..\n",
      " at iteration: 5 ep = 0.6 min_samples = 7 number of clusters = 1 moving on ..\n",
      " at iteration: 6 ep = 0.6 min_samples = 8 number of clusters = 1 moving on ..\n",
      " at iteration: 7 ep = 0.6 min_samples = 9 number of clusters = 1 moving on ..\n",
      " at iteration: 8 ep = 0.6 min_samples = 10 number of clusters = 1 moving on ..\n",
      " at iteration: 9 ep = 0.6 min_samples = 11 number of clusters = 1 moving on ..\n",
      " at iteration: 10 score: 0.40365563859459075 Number of clusters: 3\n",
      " at iteration: 11 ep = 0.6184210526315789 min_samples = 3 number of clusters = 1 moving on ..\n",
      " at iteration: 12 ep = 0.6184210526315789 min_samples = 4 number of clusters = 1 moving on ..\n",
      " at iteration: 13 ep = 0.6184210526315789 min_samples = 5 number of clusters = 1 moving on ..\n",
      " at iteration: 14 ep = 0.6184210526315789 min_samples = 6 number of clusters = 1 moving on ..\n",
      " at iteration: 15 ep = 0.6184210526315789 min_samples = 7 number of clusters = 1 moving on ..\n",
      " at iteration: 16 ep = 0.6184210526315789 min_samples = 8 number of clusters = 1 moving on ..\n",
      " at iteration: 17 ep = 0.6184210526315789 min_samples = 9 number of clusters = 1 moving on ..\n",
      " at iteration: 18 ep = 0.6184210526315789 min_samples = 10 number of clusters = 1 moving on ..\n",
      " at iteration: 19 ep = 0.6184210526315789 min_samples = 11 number of clusters = 1 moving on ..\n",
      " at iteration: 20 score: 0.4274295944356474 Number of clusters: 3\n",
      " at iteration: 21 ep = 0.6368421052631579 min_samples = 3 number of clusters = 1 moving on ..\n",
      " at iteration: 22 ep = 0.6368421052631579 min_samples = 4 number of clusters = 1 moving on ..\n",
      " at iteration: 23 ep = 0.6368421052631579 min_samples = 5 number of clusters = 1 moving on ..\n",
      " at iteration: 24 ep = 0.6368421052631579 min_samples = 6 number of clusters = 1 moving on ..\n",
      " at iteration: 25 ep = 0.6368421052631579 min_samples = 7 number of clusters = 1 moving on ..\n",
      " at iteration: 26 ep = 0.6368421052631579 min_samples = 8 number of clusters = 1 moving on ..\n",
      " at iteration: 27 ep = 0.6368421052631579 min_samples = 9 number of clusters = 1 moving on ..\n",
      " at iteration: 28 ep = 0.6368421052631579 min_samples = 10 number of clusters = 1 moving on ..\n",
      " at iteration: 29 ep = 0.6368421052631579 min_samples = 11 number of clusters = 1 moving on ..\n",
      " at iteration: 30 score: 0.4271066019409447 Number of clusters: 3\n",
      " at iteration: 31 ep = 0.6552631578947368 min_samples = 3 number of clusters = 1 moving on ..\n",
      " at iteration: 32 ep = 0.6552631578947368 min_samples = 4 number of clusters = 1 moving on ..\n",
      " at iteration: 33 ep = 0.6552631578947368 min_samples = 5 number of clusters = 1 moving on ..\n",
      " at iteration: 34 ep = 0.6552631578947368 min_samples = 6 number of clusters = 1 moving on ..\n",
      " at iteration: 35 ep = 0.6552631578947368 min_samples = 7 number of clusters = 1 moving on ..\n",
      " at iteration: 36 ep = 0.6552631578947368 min_samples = 8 number of clusters = 1 moving on ..\n",
      " at iteration: 37 ep = 0.6552631578947368 min_samples = 9 number of clusters = 1 moving on ..\n",
      " at iteration: 38 ep = 0.6552631578947368 min_samples = 10 number of clusters = 1 moving on ..\n",
      " at iteration: 39 ep = 0.6552631578947368 min_samples = 11 number of clusters = 1 moving on ..\n",
      " at iteration: 40 score: 0.505521428230453 Number of clusters: 3\n",
      " at iteration: 41 ep = 0.6736842105263158 min_samples = 3 number of clusters = 1 moving on ..\n",
      " at iteration: 42 ep = 0.6736842105263158 min_samples = 4 number of clusters = 1 moving on ..\n",
      " at iteration: 43 ep = 0.6736842105263158 min_samples = 5 number of clusters = 1 moving on ..\n",
      " at iteration: 44 ep = 0.6736842105263158 min_samples = 6 number of clusters = 1 moving on ..\n",
      " at iteration: 45 ep = 0.6736842105263158 min_samples = 7 number of clusters = 1 moving on ..\n",
      " at iteration: 46 ep = 0.6736842105263158 min_samples = 8 number of clusters = 1 moving on ..\n",
      " at iteration: 47 ep = 0.6736842105263158 min_samples = 9 number of clusters = 1 moving on ..\n",
      " at iteration: 48 ep = 0.6736842105263158 min_samples = 10 number of clusters = 1 moving on ..\n",
      " at iteration: 49 ep = 0.6736842105263158 min_samples = 11 number of clusters = 1 moving on ..\n",
      " at iteration: 50 score: 0.48379829568293675 Number of clusters: 4\n",
      " at iteration: 51 ep = 0.6921052631578947 min_samples = 3 number of clusters = 1 moving on ..\n",
      " at iteration: 52 ep = 0.6921052631578947 min_samples = 4 number of clusters = 1 moving on ..\n",
      " at iteration: 53 ep = 0.6921052631578947 min_samples = 5 number of clusters = 1 moving on ..\n",
      " at iteration: 54 ep = 0.6921052631578947 min_samples = 6 number of clusters = 1 moving on ..\n",
      " at iteration: 55 ep = 0.6921052631578947 min_samples = 7 number of clusters = 1 moving on ..\n",
      " at iteration: 56 ep = 0.6921052631578947 min_samples = 8 number of clusters = 1 moving on ..\n",
      " at iteration: 57 ep = 0.6921052631578947 min_samples = 9 number of clusters = 1 moving on ..\n",
      " at iteration: 58 ep = 0.6921052631578947 min_samples = 10 number of clusters = 1 moving on ..\n",
      " at iteration: 59 ep = 0.6921052631578947 min_samples = 11 number of clusters = 1 moving on ..\n",
      " at iteration: 60 score: 0.48369574044817565 Number of clusters: 4\n",
      " at iteration: 61 ep = 0.7105263157894737 min_samples = 3 number of clusters = 1 moving on ..\n",
      " at iteration: 62 ep = 0.7105263157894737 min_samples = 4 number of clusters = 1 moving on ..\n",
      " at iteration: 63 ep = 0.7105263157894737 min_samples = 5 number of clusters = 1 moving on ..\n",
      " at iteration: 64 ep = 0.7105263157894737 min_samples = 6 number of clusters = 1 moving on ..\n",
      " at iteration: 65 ep = 0.7105263157894737 min_samples = 7 number of clusters = 1 moving on ..\n",
      " at iteration: 66 ep = 0.7105263157894737 min_samples = 8 number of clusters = 1 moving on ..\n",
      " at iteration: 67 ep = 0.7105263157894737 min_samples = 9 number of clusters = 1 moving on ..\n",
      " at iteration: 68 ep = 0.7105263157894737 min_samples = 10 number of clusters = 1 moving on ..\n",
      " at iteration: 69 ep = 0.7105263157894737 min_samples = 11 number of clusters = 1 moving on ..\n",
      " at iteration: 70 score: 0.5050170730345352 Number of clusters: 3\n",
      " at iteration: 71 ep = 0.7289473684210526 min_samples = 3 number of clusters = 1 moving on ..\n",
      " at iteration: 72 ep = 0.7289473684210526 min_samples = 4 number of clusters = 1 moving on ..\n",
      " at iteration: 73 ep = 0.7289473684210526 min_samples = 5 number of clusters = 1 moving on ..\n",
      " at iteration: 74 ep = 0.7289473684210526 min_samples = 6 number of clusters = 1 moving on ..\n",
      " at iteration: 75 ep = 0.7289473684210526 min_samples = 7 number of clusters = 1 moving on ..\n",
      " at iteration: 76 ep = 0.7289473684210526 min_samples = 8 number of clusters = 1 moving on ..\n",
      " at iteration: 77 ep = 0.7289473684210526 min_samples = 9 number of clusters = 1 moving on ..\n",
      " at iteration: 78 ep = 0.7289473684210526 min_samples = 10 number of clusters = 1 moving on ..\n",
      " at iteration: 79 ep = 0.7289473684210526 min_samples = 11 number of clusters = 1 moving on ..\n",
      " at iteration: 80 score: 0.5048997743988065 Number of clusters: 3\n",
      " at iteration: 81 ep = 0.7473684210526316 min_samples = 3 number of clusters = 1 moving on ..\n",
      " at iteration: 82 ep = 0.7473684210526316 min_samples = 4 number of clusters = 1 moving on ..\n",
      " at iteration: 83 ep = 0.7473684210526316 min_samples = 5 number of clusters = 1 moving on ..\n",
      " at iteration: 84 ep = 0.7473684210526316 min_samples = 6 number of clusters = 1 moving on ..\n",
      " at iteration: 85 ep = 0.7473684210526316 min_samples = 7 number of clusters = 1 moving on ..\n",
      " at iteration: 86 ep = 0.7473684210526316 min_samples = 8 number of clusters = 1 moving on ..\n",
      " at iteration: 87 ep = 0.7473684210526316 min_samples = 9 number of clusters = 1 moving on ..\n",
      " at iteration: 88 ep = 0.7473684210526316 min_samples = 10 number of clusters = 1 moving on ..\n",
      " at iteration: 89 ep = 0.7473684210526316 min_samples = 11 number of clusters = 1 moving on ..\n",
      " at iteration: 90 score: 0.5069383976164719 Number of clusters: 2\n",
      " at iteration: 91 ep = 0.7657894736842105 min_samples = 3 number of clusters = 1 moving on ..\n",
      " at iteration: 92 ep = 0.7657894736842105 min_samples = 4 number of clusters = 1 moving on ..\n",
      " at iteration: 93 ep = 0.7657894736842105 min_samples = 5 number of clusters = 1 moving on ..\n",
      " at iteration: 94 ep = 0.7657894736842105 min_samples = 6 number of clusters = 1 moving on ..\n",
      " at iteration: 95 ep = 0.7657894736842105 min_samples = 7 number of clusters = 1 moving on ..\n",
      " at iteration: 96 ep = 0.7657894736842105 min_samples = 8 number of clusters = 1 moving on ..\n",
      " at iteration: 97 ep = 0.7657894736842105 min_samples = 9 number of clusters = 1 moving on ..\n",
      " at iteration: 98 ep = 0.7657894736842105 min_samples = 10 number of clusters = 1 moving on ..\n",
      " at iteration: 99 ep = 0.7657894736842105 min_samples = 11 number of clusters = 1 moving on ..\n",
      " at iteration: 100 score: 0.6314419699560644 Number of clusters: 2\n",
      " at iteration: 101 ep = 0.7842105263157895 min_samples = 3 number of clusters = 1 moving on ..\n",
      " at iteration: 102 ep = 0.7842105263157895 min_samples = 4 number of clusters = 1 moving on ..\n",
      " at iteration: 103 ep = 0.7842105263157895 min_samples = 5 number of clusters = 1 moving on ..\n",
      " at iteration: 104 ep = 0.7842105263157895 min_samples = 6 number of clusters = 1 moving on ..\n",
      " at iteration: 105 ep = 0.7842105263157895 min_samples = 7 number of clusters = 1 moving on ..\n",
      " at iteration: 106 ep = 0.7842105263157895 min_samples = 8 number of clusters = 1 moving on ..\n",
      " at iteration: 107 ep = 0.7842105263157895 min_samples = 9 number of clusters = 1 moving on ..\n",
      " at iteration: 108 ep = 0.7842105263157895 min_samples = 10 number of clusters = 1 moving on ..\n",
      " at iteration: 109 ep = 0.7842105263157895 min_samples = 11 number of clusters = 1 moving on ..\n",
      " at iteration: 110 score: 0.6347609664390504 Number of clusters: 2\n",
      " at iteration: 111 ep = 0.8026315789473684 min_samples = 3 number of clusters = 1 moving on ..\n",
      " at iteration: 112 ep = 0.8026315789473684 min_samples = 4 number of clusters = 1 moving on ..\n",
      " at iteration: 113 ep = 0.8026315789473684 min_samples = 5 number of clusters = 1 moving on ..\n",
      " at iteration: 114 ep = 0.8026315789473684 min_samples = 6 number of clusters = 1 moving on ..\n",
      " at iteration: 115 ep = 0.8026315789473684 min_samples = 7 number of clusters = 1 moving on ..\n",
      " at iteration: 116 ep = 0.8026315789473684 min_samples = 8 number of clusters = 1 moving on ..\n",
      " at iteration: 117 ep = 0.8026315789473684 min_samples = 9 number of clusters = 1 moving on ..\n",
      " at iteration: 118 ep = 0.8026315789473684 min_samples = 10 number of clusters = 1 moving on ..\n",
      " at iteration: 119 ep = 0.8026315789473684 min_samples = 11 number of clusters = 1 moving on ..\n",
      " at iteration: 120 score: 0.6387185472222217 Number of clusters: 2\n",
      " at iteration: 121 ep = 0.8210526315789473 min_samples = 3 number of clusters = 1 moving on ..\n",
      " at iteration: 122 ep = 0.8210526315789473 min_samples = 4 number of clusters = 1 moving on ..\n",
      " at iteration: 123 ep = 0.8210526315789473 min_samples = 5 number of clusters = 1 moving on ..\n",
      " at iteration: 124 ep = 0.8210526315789473 min_samples = 6 number of clusters = 1 moving on ..\n",
      " at iteration: 125 ep = 0.8210526315789473 min_samples = 7 number of clusters = 1 moving on ..\n",
      " at iteration: 126 ep = 0.8210526315789473 min_samples = 8 number of clusters = 1 moving on ..\n",
      " at iteration: 127 ep = 0.8210526315789473 min_samples = 9 number of clusters = 1 moving on ..\n",
      " at iteration: 128 ep = 0.8210526315789473 min_samples = 10 number of clusters = 1 moving on ..\n",
      " at iteration: 129 ep = 0.8210526315789473 min_samples = 11 number of clusters = 1 moving on ..\n",
      " at iteration: 130 score: 0.6387891702220179 Number of clusters: 2\n",
      " at iteration: 131 ep = 0.8394736842105263 min_samples = 3 number of clusters = 1 moving on ..\n",
      " at iteration: 132 ep = 0.8394736842105263 min_samples = 4 number of clusters = 1 moving on ..\n",
      " at iteration: 133 ep = 0.8394736842105263 min_samples = 5 number of clusters = 1 moving on ..\n",
      " at iteration: 134 ep = 0.8394736842105263 min_samples = 6 number of clusters = 1 moving on ..\n",
      " at iteration: 135 ep = 0.8394736842105263 min_samples = 7 number of clusters = 1 moving on ..\n",
      " at iteration: 136 ep = 0.8394736842105263 min_samples = 8 number of clusters = 1 moving on ..\n",
      " at iteration: 137 ep = 0.8394736842105263 min_samples = 9 number of clusters = 1 moving on ..\n",
      " at iteration: 138 ep = 0.8394736842105263 min_samples = 10 number of clusters = 1 moving on ..\n",
      " at iteration: 139 ep = 0.8394736842105263 min_samples = 11 number of clusters = 1 moving on ..\n",
      " at iteration: 140 score: 0.6387891702220179 Number of clusters: 2\n",
      " at iteration: 141 ep = 0.8578947368421053 min_samples = 3 number of clusters = 1 moving on ..\n",
      " at iteration: 142 ep = 0.8578947368421053 min_samples = 4 number of clusters = 1 moving on ..\n",
      " at iteration: 143 ep = 0.8578947368421053 min_samples = 5 number of clusters = 1 moving on ..\n",
      " at iteration: 144 ep = 0.8578947368421053 min_samples = 6 number of clusters = 1 moving on ..\n",
      " at iteration: 145 ep = 0.8578947368421053 min_samples = 7 number of clusters = 1 moving on ..\n",
      " at iteration: 146 ep = 0.8578947368421053 min_samples = 8 number of clusters = 1 moving on ..\n",
      " at iteration: 147 ep = 0.8578947368421053 min_samples = 9 number of clusters = 1 moving on ..\n",
      " at iteration: 148 ep = 0.8578947368421053 min_samples = 10 number of clusters = 1 moving on ..\n",
      " at iteration: 149 ep = 0.8578947368421053 min_samples = 11 number of clusters = 1 moving on ..\n",
      " at iteration: 150 score: 0.6387131783285682 Number of clusters: 2\n",
      " at iteration: 151 ep = 0.8763157894736842 min_samples = 3 number of clusters = 1 moving on ..\n",
      " at iteration: 152 ep = 0.8763157894736842 min_samples = 4 number of clusters = 1 moving on ..\n",
      " at iteration: 153 ep = 0.8763157894736842 min_samples = 5 number of clusters = 1 moving on ..\n",
      " at iteration: 154 ep = 0.8763157894736842 min_samples = 6 number of clusters = 1 moving on ..\n",
      " at iteration: 155 ep = 0.8763157894736842 min_samples = 7 number of clusters = 1 moving on ..\n",
      " at iteration: 156 ep = 0.8763157894736842 min_samples = 8 number of clusters = 1 moving on ..\n",
      " at iteration: 157 ep = 0.8763157894736842 min_samples = 9 number of clusters = 1 moving on ..\n",
      " at iteration: 158 ep = 0.8763157894736842 min_samples = 10 number of clusters = 1 moving on ..\n",
      " at iteration: 159 ep = 0.8763157894736842 min_samples = 11 number of clusters = 1 moving on ..\n",
      " at iteration: 160 ep = 0.894736842105263 min_samples = 2 number of clusters = 1 moving on ..\n",
      " at iteration: 161 ep = 0.894736842105263 min_samples = 3 number of clusters = 1 moving on ..\n",
      " at iteration: 162 ep = 0.894736842105263 min_samples = 4 number of clusters = 1 moving on ..\n",
      " at iteration: 163 ep = 0.894736842105263 min_samples = 5 number of clusters = 1 moving on ..\n",
      " at iteration: 164 ep = 0.894736842105263 min_samples = 6 number of clusters = 1 moving on ..\n",
      " at iteration: 165 ep = 0.894736842105263 min_samples = 7 number of clusters = 1 moving on ..\n",
      " at iteration: 166 ep = 0.894736842105263 min_samples = 8 number of clusters = 1 moving on ..\n",
      " at iteration: 167 ep = 0.894736842105263 min_samples = 9 number of clusters = 1 moving on ..\n",
      " at iteration: 168 ep = 0.894736842105263 min_samples = 10 number of clusters = 1 moving on ..\n",
      " at iteration: 169 ep = 0.894736842105263 min_samples = 11 number of clusters = 1 moving on ..\n",
      " at iteration: 170 ep = 0.9131578947368421 min_samples = 2 number of clusters = 1 moving on ..\n",
      " at iteration: 171 ep = 0.9131578947368421 min_samples = 3 number of clusters = 1 moving on ..\n",
      " at iteration: 172 ep = 0.9131578947368421 min_samples = 4 number of clusters = 1 moving on ..\n",
      " at iteration: 173 ep = 0.9131578947368421 min_samples = 5 number of clusters = 1 moving on ..\n",
      " at iteration: 174 ep = 0.9131578947368421 min_samples = 6 number of clusters = 1 moving on ..\n",
      " at iteration: 175 ep = 0.9131578947368421 min_samples = 7 number of clusters = 1 moving on ..\n",
      " at iteration: 176 ep = 0.9131578947368421 min_samples = 8 number of clusters = 1 moving on ..\n",
      " at iteration: 177 ep = 0.9131578947368421 min_samples = 9 number of clusters = 1 moving on ..\n",
      " at iteration: 178 ep = 0.9131578947368421 min_samples = 10 number of clusters = 1 moving on ..\n",
      " at iteration: 179 ep = 0.9131578947368421 min_samples = 11 number of clusters = 1 moving on ..\n",
      " at iteration: 180 ep = 0.9315789473684211 min_samples = 2 number of clusters = 1 moving on ..\n",
      " at iteration: 181 ep = 0.9315789473684211 min_samples = 3 number of clusters = 1 moving on ..\n",
      " at iteration: 182 ep = 0.9315789473684211 min_samples = 4 number of clusters = 1 moving on ..\n",
      " at iteration: 183 ep = 0.9315789473684211 min_samples = 5 number of clusters = 1 moving on ..\n",
      " at iteration: 184 ep = 0.9315789473684211 min_samples = 6 number of clusters = 1 moving on ..\n",
      " at iteration: 185 ep = 0.9315789473684211 min_samples = 7 number of clusters = 1 moving on ..\n",
      " at iteration: 186 ep = 0.9315789473684211 min_samples = 8 number of clusters = 1 moving on ..\n",
      " at iteration: 187 ep = 0.9315789473684211 min_samples = 9 number of clusters = 1 moving on ..\n",
      " at iteration: 188 ep = 0.9315789473684211 min_samples = 10 number of clusters = 1 moving on ..\n",
      " at iteration: 189 ep = 0.9315789473684211 min_samples = 11 number of clusters = 1 moving on ..\n",
      " at iteration: 190 ep = 0.95 min_samples = 2 number of clusters = 1 moving on ..\n",
      " at iteration: 191 ep = 0.95 min_samples = 3 number of clusters = 1 moving on ..\n",
      " at iteration: 192 ep = 0.95 min_samples = 4 number of clusters = 1 moving on ..\n",
      " at iteration: 193 ep = 0.95 min_samples = 5 number of clusters = 1 moving on ..\n",
      " at iteration: 194 ep = 0.95 min_samples = 6 number of clusters = 1 moving on ..\n",
      " at iteration: 195 ep = 0.95 min_samples = 7 number of clusters = 1 moving on ..\n",
      " at iteration: 196 ep = 0.95 min_samples = 8 number of clusters = 1 moving on ..\n",
      " at iteration: 197 ep = 0.95 min_samples = 9 number of clusters = 1 moving on ..\n",
      " at iteration: 198 ep = 0.95 min_samples = 10 number of clusters = 1 moving on ..\n",
      " at iteration: 199 ep = 0.95 min_samples = 11 number of clusters = 1 moving on ..\n"
     ]
    }
   ],
   "source": [
    "# perform grid search\n",
    "best_params = GridSearch(combinations, data_scaled)"
   ]
  },
  {
   "cell_type": "code",
   "execution_count": 30,
   "metadata": {},
   "outputs": [
    {
     "name": "stdout",
     "output_type": "stream",
     "text": [
      "{'best_epsilon': 0.8394736842105263, 'best_min_samples': 2, 'best_labels': array([0, 0, 0, ..., 0, 0, 0]), 'best_score': 0.6387891702220179}\n"
     ]
    }
   ],
   "source": [
    "# display the best parameters\n",
    "print(best_params)"
   ]
  },
  {
   "cell_type": "code",
   "execution_count": 31,
   "metadata": {},
   "outputs": [],
   "source": [
    "# build the DBSCAN model with the best parameters\n",
    "dbscan_final = DBSCAN(eps=0.8394736842105263, min_samples=2)\n",
    "clusters = dbscan_final.fit_predict(data_scaled)"
   ]
  },
  {
   "cell_type": "code",
   "execution_count": 32,
   "metadata": {},
   "outputs": [
    {
     "name": "stdout",
     "output_type": "stream",
     "text": [
      "Outliers: 59\n"
     ]
    }
   ],
   "source": [
    "# identify outliers and print its count\n",
    "outliers = data_scaled[clusters == -1]  \n",
    "print(f\"Outliers: {len(outliers)}\")"
   ]
  },
  {
   "cell_type": "code",
   "execution_count": 39,
   "metadata": {},
   "outputs": [
    {
     "data": {
      "image/png": "[encoded data removed]",
      "text/plain": [
       "<Figure size 640x480 with 1 Axes>"
      ]
     },
     "metadata": {},
     "output_type": "display_data"
    }
   ],
   "source": [
    "# using alpha for transparency\n",
    "plt.scatter(data_scaled[:, 0], data_scaled[:, 1], c='blue', alpha=0.6, label='Inliers')\n",
    "plt.scatter(outliers[:, 0], outliers[:, 1], c='red', alpha=0.6, label='Outliers')\n",
    "plt.title('DBSCAN Outlier Removal')\n",
    "plt.xlabel('Feature 1')\n",
    "plt.ylabel('Feature 2')\n",
    "plt.legend()\n",
    "plt.show()\n"
   ]
  },
  {
   "cell_type": "code",
   "execution_count": 33,
   "metadata": {},
   "outputs": [
    {
     "name": "stdout",
     "output_type": "stream",
     "text": [
      "Percentage of data identified as outliers: 0.19%\n"
     ]
    }
   ],
   "source": [
    "# calculate the percentage of data that are outliers\n",
    "outliers_percentage = (len(outliers) / len(data_scaled)) * 100\n",
    "print(f\"Percentage of data identified as outliers: {outliers_percentage:.2f}%\")"
   ]
  },
  {
   "cell_type": "markdown",
   "metadata": {},
   "source": [
    "## Prepare notebook for clustering"
   ]
  },
  {
   "cell_type": "code",
   "execution_count": 34,
   "metadata": {},
   "outputs": [],
   "source": [
    "# remove outliers from the data\n",
    "no_outliers = data_scaled[clusters != -1]\n",
    "# turn into dataframe\n",
    "df_final = pd.DataFrame(no_outliers, columns=metric_features, index=df_customers.index[clusters != -1])"
   ]
  },
  {
   "cell_type": "code",
   "execution_count": 36,
   "metadata": {},
   "outputs": [],
   "source": [
    "# adding back the features that were removed in the beginning\n",
    "df_final[cols_range_0_1] = df_customers[cols_range_0_1]\n",
    "df_final[num_cat_features] = df_customers[num_cat_features]\n",
    "df_final[non_metric_features] = df_customers[non_metric_features]"
   ]
  },
  {
   "cell_type": "code",
   "execution_count": 38,
   "metadata": {},
   "outputs": [],
   "source": [
    "# export the final Dataframe\n",
    "df_final.to_csv('df2.csv', index=True)"
   ]
  }
 ],
 "metadata": {
  "kernelspec": {
   "display_name": "base",
   "language": "python",
   "name": "python3"
  },
  "language_info": {
   "codemirror_mode": {
    "name": "ipython",
    "version": 3
   },
   "file_extension": ".py",
   "mimetype": "text/x-python",
   "name": "python",
   "nbconvert_exporter": "python",
   "pygments_lexer": "ipython3",
   "version": "3.12.2"
  }
 },
 "nbformat": 4,
 "nbformat_minor": 2
}
