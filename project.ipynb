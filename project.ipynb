{
 "cells": [
  {
   "cell_type": "markdown",
   "metadata": {},
   "source": [
    "# Imports "
   ]
  },
  {
   "cell_type": "code",
   "execution_count": 1,
   "metadata": {},
   "outputs": [],
   "source": [
    "import pandas as pd\n",
    "import numpy as np\n",
    "\n",
    "# import matplotlib.pyplot and seaborn for data visualization\n",
    "import matplotlib.pyplot as plt\n",
    "import seaborn as sns\n",
    "\n",
    "import os\n",
    "from math import ceil"
   ]
  },
  {
   "cell_type": "markdown",
   "metadata": {},
   "source": [
    "# Data Set Information:\n",
    "**customer_id** - Unique identifier for each customer.\n",
    "\n",
    "**customer_region** - Geographic region where the customer is located.\n",
    "\n",
    "**customer_age** - Age of the customer.\n",
    "\n",
    "**vendor_count** - Number of unique vendors the customer has ordered from.\n",
    "\n",
    "**product_count** - Total number of products the customer has ordered.\n",
    "\n",
    "**is_chain** - Indicates whether the customer’s order was from a chain restaurant.\n",
    "\n",
    "**first_order** - Number of days from the start of the dataset when the customer first placed an order.\n",
    "\n",
    "**last_order** - Number of days from the start of the dataset when the customer most recently placed an order.\n",
    "\n",
    "**last_promo** - The category of the promotion or discount most recently used by the customer.\n",
    "\n",
    "**payment_method** - Method most recently used by the customer to pay for their orders.\n",
    "\n",
    "**CUI_American, CUI_Asian, CUI_Chinese, CUI_Italian, etc.** - The amount in monetary units spent by the customer from the indicated type of cuisine.\n",
    "\n",
    "**DOW_0toDOW_6** - Number of orders placed on each day of the week (0 =Sunday, 6 =Saturday).\n",
    "\n",
    "**HR_0toHR_23** - Number of orders placed during each hour of the day (0 =midnight, 23 = 11 PM)."
   ]
  },
  {
   "cell_type": "code",
   "execution_count": null,
   "metadata": {},
   "outputs": [],
   "source": [
    "df = pd.read_csv('DM2425_ABCDEats_DATASET.csv', sep=',')\n",
    "df.head()"
   ]
  },
  {
   "cell_type": "code",
   "execution_count": null,
   "metadata": {},
   "outputs": [],
   "source": [
    "df.info()"
   ]
  },
  {
   "cell_type": "code",
   "execution_count": null,
   "metadata": {},
   "outputs": [],
   "source": [
    "df.isna().sum()"
   ]
  },
  {
   "cell_type": "code",
   "execution_count": null,
   "metadata": {},
   "outputs": [],
   "source": [
    "pd.set_option('display.max_columns', None)\n",
    "pd.set_option('display.max_rows', None)\n",
    "df.describe()"
   ]
  },
  {
   "cell_type": "markdown",
   "metadata": {},
   "source": [
    "### Remarks\n",
    "- HR_0 only has 0 values, thus **drop the feature**\n",
    "- HR_11 & HR_17 representing 11am and 5pm, respectively, are the hours of the day when, on average, consumers order more\n",
    "- HR_22 to HR_1 representing 10pm to 1am, are the hours of the day when, on average, consumers order less<br/>\n",
    "<br/>\n",
    "- DOW_4 & DOW_6 representing Thursday and Saturday, are the days of the week when, on average, consumers order more\n",
    "- DOW_0 & DOW_1 representing Sunday and Mondauy, are the days of the week when, on average, consumers order less<br/>\n",
    "<br/>\n",
    "**Missing values**: The variables \"customer_age\", \"first_order\" and \" HR_0\" have missing values<br/>\n",
    "For all rows with missing values in \"first_order\", the corresponding value in the feature \"last_order\" is 0, meaning **the customer didn't place an order during the data collection period**.\n"
   ]
  },
  {
   "cell_type": "code",
   "execution_count": null,
   "metadata": {},
   "outputs": [],
   "source": [
    "df['customer_region'].value_counts() ##### - take as missing value"
   ]
  },
  {
   "cell_type": "code",
   "execution_count": 7,
   "metadata": {},
   "outputs": [],
   "source": [
    "# group the data by similarity\n",
    "orders_per_hour= df.loc[:, 'HR_0':'HR_23']\n",
    "\n",
    "dawn = sum(df.loc[:, 'HR_0':'HR_6'].sum())\n",
    "morning= sum(df.loc[:, 'HR_7':'HR_12'].sum())\n",
    "afternoon = sum(df.loc[:, 'HR_13':'HR_18'].sum())\n",
    "night = sum(df.loc[:, 'HR_19':'HR_23'].sum())\n",
    "\n",
    "orders_per_moment_of_day = [dawn, morning, afternoon, night]\n",
    "\n",
    "\n",
    "orders_per_dow = df.loc[:, 'DOW_0':'DOW_6']\n",
    "orders_per_dow_sum = orders_per_dow.sum()\n",
    "\n",
    "orders_per_cuisine = df.loc[:, 'CUI_American':'CUI_Thai']\n",
    "orders_per_cuisine_sum = orders_per_cuisine.sum()"
   ]
  },
  {
   "cell_type": "code",
   "execution_count": 8,
   "metadata": {},
   "outputs": [],
   "source": [
    "# split data metric and non metric\n",
    "df_non_metric = df.select_dtypes(include=['object'])\n",
    "df_metric = df.select_dtypes(include=['int64', 'float64'])"
   ]
  },
  {
   "cell_type": "markdown",
   "metadata": {},
   "source": [
    "# Metric Data"
   ]
  },
  {
   "cell_type": "code",
   "execution_count": null,
   "metadata": {},
   "outputs": [],
   "source": [
    "# split data into metric and non-metric\n",
    "metric_features = df.columns.drop(df_non_metric.columns).drop(orders_per_dow).drop(orders_per_cuisine).drop(orders_per_hour).to_list()\n",
    "\n",
    "print(metric_features)"
   ]
  },
  {
   "cell_type": "markdown",
   "metadata": {},
   "source": [
    "## Metric Data Histogram"
   ]
  },
  {
   "cell_type": "code",
   "execution_count": null,
   "metadata": {},
   "outputs": [],
   "source": [
    "sp_rows = 2\n",
    "sp_cols = 3\n",
    "\n",
    "fig, axes = plt.subplots(sp_rows, \n",
    "                         sp_cols, \n",
    "                         figsize=(20, 11))\n",
    "\n",
    "for ax, feat in zip(axes.flatten(), metric_features): # Notice the zip() function and flatten() method - creates one list with all the axes\n",
    "    ax.hist(df[feat])\n",
    "    ax.set_title(feat, y=-0.13)\n",
    "\n",
    "title = \"Numeric Variables' Histograms\"\n",
    "\n",
    "plt.suptitle(title)\n",
    "\n",
    "if not os.path.exists(os.path.join('..', 'figures', 'eda')):\n",
    "    os.makedirs(os.path.join('..', 'figures', 'eda'))\n",
    "    \n",
    "plt.savefig(os.path.join('..', 'figures', 'eda', 'numeric_variables_histograms.png'), dpi=200)\n",
    "\n",
    "plt.show()"
   ]
  },
  {
   "cell_type": "markdown",
   "metadata": {},
   "source": [
    "### Histogram - Remarks\n",
    "\n",
    "By visualizing their histograms, the features *first_order* and *last_order* seem to be **correlated**, due to their plots' symmetry. (CORRELATION MATRIX)\n",
    "<br/> The features *vendor_count*,*product_count* and *is_chain* seem to have **outliers that limit the visualization** of their distribution. \n",
    "<br/> The feature *customer_age* might have some less accentuated outliers, but seems to have a **right-skewed distribution** - meaning that customers show a tendency to young adults. (and it does make logical sense, since we are analyzing data from a online app)"
   ]
  },
  {
   "cell_type": "markdown",
   "metadata": {},
   "source": [
    "## Metric Data Boxplot"
   ]
  },
  {
   "cell_type": "code",
   "execution_count": null,
   "metadata": {},
   "outputs": [],
   "source": [
    "sp_rows = 2\n",
    "sp_cols = ceil(len(metric_features) / sp_rows)\n",
    "\n",
    "\n",
    "fig, axes = plt.subplots(sp_rows, \n",
    "                         sp_cols, \n",
    "                         figsize=(20, 11),\n",
    "                         tight_layout=True\n",
    "                        )\n",
    "\n",
    "\n",
    "for ax, feat in zip(axes.flatten(), metric_features):\n",
    "    sns.boxplot(x=df[feat], ax=ax)\n",
    "    \n",
    "title = \"Numeric Variables' Box Plots\"\n",
    "\n",
    "plt.suptitle(title)\n",
    "\n",
    "if not os.path.exists(os.path.join('..', 'figures', 'eda')):\n",
    "    os.makedirs(os.path.join('..', 'figures', 'eda'))\n",
    "\n",
    "\n",
    "plt.savefig(os.path.join('..', 'figures', 'eda', 'numeric_variables_boxplots.png'), dpi=200)\n",
    "\n",
    "\n",
    "plt.show()"
   ]
  },
  {
   "cell_type": "markdown",
   "metadata": {},
   "source": [
    "### Boxplot - Remarks\n",
    "\n",
    "Once again, the features *first_order* and *last_order* have highly symmetrical plots, which might indicate **correlation** between them.\n",
    "<br/>As suspected, the features *vendor_count*,*product_count* and *is_chain* have a **elevated number of outliers**, that should be dealt with in order to visualize the features distribution.\n",
    "<br/> (WHAT SHOULD WE DO WITH THE OUTLIERS OF CUSTOMER AGE- by taking them off we might be biasing the data)"
   ]
  },
  {
   "cell_type": "code",
   "execution_count": null,
   "metadata": {},
   "outputs": [],
   "source": [
    "## correlation between first_order and last_order\n",
    "last_order_non_null = df[df['last_order'] != 0]\n",
    "last_order_non_null[['first_order', 'last_order']].corr()"
   ]
  },
  {
   "cell_type": "markdown",
   "metadata": {},
   "source": [
    "## Days of the Week "
   ]
  },
  {
   "cell_type": "code",
   "execution_count": null,
   "metadata": {},
   "outputs": [],
   "source": [
    "##################### copiei tudo do chatgpt ####################\n",
    "average_orders_dow = orders_per_dow_sum.mean()\n",
    "\n",
    "plt.figure(figsize=(10, 6))\n",
    "orders_per_dow_sum.plot(kind='bar', color = 'grey')\n",
    "plt.axhline(y=average_orders_dow, color='black', linestyle='--', label='Average Orders')\n",
    "plt.title('Total Orders per Day of the Week')\n",
    "plt.xlabel('Day of the Week')\n",
    "plt.ylabel('Total Orders')\n",
    "plt.xticks(rotation=0)\n",
    "plt.show()"
   ]
  },
  {
   "cell_type": "markdown",
   "metadata": {},
   "source": [
    "### Days of the Week - Remarks"
   ]
  },
  {
   "cell_type": "markdown",
   "metadata": {},
   "source": [
    "## Hours of the day"
   ]
  },
  {
   "cell_type": "code",
   "execution_count": null,
   "metadata": {},
   "outputs": [],
   "source": [
    "moments_of_day = ['Dawn', 'Morning', 'Afternoon', 'Night']\n",
    "average_orders_moment = sum(orders_per_moment_of_day)/len(orders_per_moment_of_day)\n",
    "\n",
    "plt.figure(figsize=(10, 6))\n",
    "plt.bar(moments_of_day, orders_per_moment_of_day, color='grey')\n",
    "plt.axhline(y=average_orders_moment, color='black', linestyle='--', label='Average Orders')\n",
    "plt.title('Total Orders per Moment of the Day')\n",
    "plt.xlabel('Moment of the Day')\n",
    "plt.ylabel('Total Orders')\n",
    "plt.xticks(rotation=0)\n",
    "plt.show()"
   ]
  },
  {
   "cell_type": "markdown",
   "metadata": {},
   "source": [
    "### Moments of the Day - Remarks"
   ]
  },
  {
   "cell_type": "markdown",
   "metadata": {},
   "source": [
    "## Cuisines"
   ]
  },
  {
   "cell_type": "code",
   "execution_count": null,
   "metadata": {},
   "outputs": [],
   "source": [
    "average_orders_cuisine = orders_per_cuisine_sum.mean()\n",
    "\n",
    "plt.figure(figsize=(10, 6))\n",
    "orders_per_cuisine_sum.plot(kind='bar', color = 'grey')\n",
    "plt.axhline(y=average_orders_cuisine, color='black', linestyle='--', label='Average Orders')\n",
    "plt.title('Total Orders per Cuisine')\n",
    "plt.xlabel('Types of Cuisine')\n",
    "plt.ylabel('Total Orders')\n",
    "\n",
    "plt.show()"
   ]
  },
  {
   "cell_type": "markdown",
   "metadata": {},
   "source": [
    "### Cuisines - Remarks"
   ]
  },
  {
   "cell_type": "markdown",
   "metadata": {},
   "source": [
    "## Correlation \n",
    "# to do"
   ]
  },
  {
   "cell_type": "markdown",
   "metadata": {},
   "source": [
    "# Non Metric Data"
   ]
  },
  {
   "cell_type": "code",
   "execution_count": 16,
   "metadata": {},
   "outputs": [],
   "source": [
    "non_metric_features = df_non_metric.columns.to_list()"
   ]
  },
  {
   "cell_type": "code",
   "execution_count": null,
   "metadata": {},
   "outputs": [],
   "source": [
    "df_non_metric.head(5)"
   ]
  },
  {
   "cell_type": "code",
   "execution_count": 18,
   "metadata": {},
   "outputs": [],
   "source": [
    "# customer id is not needed for the analysis\n",
    "#df_non_metric.drop(['customer_id'], axis=1, inplace=True)"
   ]
  },
  {
   "cell_type": "code",
   "execution_count": 19,
   "metadata": {},
   "outputs": [],
   "source": [
    "df_non_metric = df_non_metric.replace('-', np.nan)"
   ]
  },
  {
   "cell_type": "markdown",
   "metadata": {},
   "source": [
    "Basic Statistics"
   ]
  },
  {
   "cell_type": "code",
   "execution_count": null,
   "metadata": {},
   "outputs": [],
   "source": [
    "cat_stats_list = []\n",
    "\n",
    "for col in df_non_metric.columns:\n",
    "    tmp_dict = {\n",
    "        'column': col,\n",
    "        'values': df_non_metric[col].unique(),\n",
    "        'values_count': len(df_non_metric[col].unique()),\n",
    "        'values_count_nona': int(df_non_metric[col].nunique()),\n",
    "        'mode': df_non_metric[col].mode().values[0],\n",
    "        'num_miss': df_non_metric[col].isnull().sum(),\n",
    "        'pct_miss': (df_non_metric[col].isnull().sum() / len(df_non_metric)).round(2) * 100\n",
    "    }\n",
    "    \n",
    "    cat_stats_list.append(tmp_dict)\n",
    "\n",
    "ds_cat_stats = pd.DataFrame(cat_stats_list)\n",
    "ds_cat_stats\n"
   ]
  },
  {
   "cell_type": "markdown",
   "metadata": {},
   "source": [
    "- customer_region has a lot of different categories (8)\n",
    "- More than half of last_promo values are missing\n",
    "- What is DIGI payment method ?"
   ]
  },
  {
   "cell_type": "markdown",
   "metadata": {},
   "source": [
    "Frequency Distribution"
   ]
  },
  {
   "cell_type": "markdown",
   "metadata": {},
   "source": [
    "- Certain regions order a lot more than others (unbalanced)\n",
    "- Last Promotion used is balanced\n",
    "- Card is used much more than the other (unbalanced)"
   ]
  },
  {
   "cell_type": "code",
   "execution_count": null,
   "metadata": {},
   "outputs": [],
   "source": [
    "# Import necessary libraries\n",
    "import pandas as pd\n",
    "\n",
    "# Iterate through the non-metric columns and print their frequency tables with percentages\n",
    "for column in df_non_metric.columns:\n",
    "    print(f\"Frequency Table for {column}:\")\n",
    "    freq_table = df_non_metric[column].value_counts()  # Get the frequency count\n",
    "    percentage_table = (df_non_metric[column].value_counts(normalize=True) * 100).round(2)  # Get the percentage\n",
    "    \n",
    "    # Combine frequency and percentage in one DataFrame for better presentation\n",
    "    freq_percentage_table = pd.DataFrame({'Frequency': freq_table, 'Percentage (%)': percentage_table})\n",
    "    \n",
    "    print(freq_percentage_table)\n",
    "    print(\"\\n\")  # Add space between the tables for better readability"
   ]
  },
  {
   "cell_type": "code",
   "execution_count": null,
   "metadata": {},
   "outputs": [],
   "source": []
  }
 ],
 "metadata": {
  "kernelspec": {
   "display_name": "base",
   "language": "python",
   "name": "python3"
  },
  "language_info": {
   "codemirror_mode": {
    "name": "ipython",
    "version": 3
   },
   "file_extension": ".py",
   "mimetype": "text/x-python",
   "name": "python",
   "nbconvert_exporter": "python",
   "pygments_lexer": "ipython3",
   "version": "3.12.4"
  }
 },
 "nbformat": 4,
 "nbformat_minor": 2
}
