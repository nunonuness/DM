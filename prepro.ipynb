{
 "cells": [
  {
   "cell_type": "code",
   "execution_count": null,
   "metadata": {
    "vscode": {
     "languageId": "plaintext"
    }
   },
   "outputs": [],
   "source": [
    "# new dataframe with only customers who have ordered\n",
    "df_customers = df[~df.index.isin(no_orders.index)]"
   ]
  },
  {
   "cell_type": "code",
   "execution_count": null,
   "metadata": {
    "vscode": {
     "languageId": "plaintext"
    }
   },
   "outputs": [],
   "source": [
    "df_customers.head(2)"
   ]
  },
  {
   "cell_type": "code",
   "execution_count": null,
   "metadata": {
    "vscode": {
     "languageId": "plaintext"
    }
   },
   "outputs": [],
   "source": [
    "df_customers.info()"
   ]
  },
  {
   "cell_type": "code",
   "execution_count": null,
   "metadata": {
    "vscode": {
     "languageId": "plaintext"
    }
   },
   "outputs": [],
   "source": [
    "# get the total number of NaN values for each column\n",
    "total_nan = df_customers.isna().sum().sort_values(ascending=False)\n",
    "\n",
    "# get the percentage of NaN values for each column\n",
    "percent_nan = ((total_nan / len(df_customers)) * 100).round(2)\n",
    "\n",
    "# create a DataFrame to display the total and percentage of NaN values for each column\n",
    "nan_stats = pd.DataFrame({'Total NaN': total_nan, 'Percentage NaN': percent_nan})\n",
    "\n",
    "# no need to display columns with no NaN values\n",
    "nan_stats = nan_stats[nan_stats['Total NaN'] > 0]\n",
    "\n",
    "nan_stats"
   ]
  },
  {
   "cell_type": "markdown",
   "metadata": {},
   "source": [
    "- Low %, so lets use imputation\n",
    "\n",
    "- Same % for 'customer_age' and 'age_group' -> NaN values in age_group are probably due to missing values in customer_age"
   ]
  },
  {
   "cell_type": "code",
   "execution_count": null,
   "metadata": {
    "vscode": {
     "languageId": "plaintext"
    }
   },
   "outputs": [],
   "source": [
    "# fill HR_0 with the mean value \n",
    "hr_0_mean = df_customers['HR_0'].mean()\n",
    "df_customers['HR_0'].fillna(hr_0_mean, inplace=True)\n",
    "hr_0_mean"
   ]
  },
  {
   "cell_type": "code",
   "execution_count": null,
   "metadata": {
    "vscode": {
     "languageId": "plaintext"
    }
   },
   "outputs": [],
   "source": [
    "# Check if missing age_group aligns with missing customer_age\n",
    "missing_consistency = df_customers[df_customers['customer_age'].isnull()]['age_group'].isnull().all()\n",
    "print(f\"Are all missing age_group values tied to missing customer_age? {missing_consistency}\")"
   ]
  },
  {
   "cell_type": "code",
   "execution_count": null,
   "metadata": {
    "vscode": {
     "languageId": "plaintext"
    }
   },
   "outputs": [],
   "source": [
    "# get distribution of the 'customer_age' column\n",
    "sns.histplot(df_customers['customer_age'], kde=True, color='blue')\n",
    "plt.title('Distribution of Customer Age')\n"
   ]
  },
  {
   "cell_type": "markdown",
   "metadata": {},
   "source": [
    "- Distribution is right-skewed, let's use the median over the mean"
   ]
  },
  {
   "cell_type": "code",
   "execution_count": null,
   "metadata": {
    "vscode": {
     "languageId": "plaintext"
    }
   },
   "outputs": [],
   "source": [
    "# fill customer_age with the median value\n",
    "customer_age_median = df_customers['customer_age'].median()  # 26\n",
    "df_customers['customer_age'].fillna(customer_age_median, inplace=True)\n",
    "\n",
    "# fill age_group with the respective age group (21-30)\n",
    "df_customers['age_group'].fillna('21-30', inplace=True)"
   ]
  },
  {
   "cell_type": "markdown",
   "metadata": {},
   "source": [
    "First_Order - Impute with the mean, median or mode doesn't make sense here. As those missing values represent 0.33% let's drop them"
   ]
  },
  {
   "cell_type": "code",
   "execution_count": null,
   "metadata": {
    "vscode": {
     "languageId": "plaintext"
    }
   },
   "outputs": [],
   "source": [
    "# drop rows where first_order is missing\n",
    "df_customers.dropna(subset=['first_order'], inplace=True)"
   ]
  }
 ],
 "metadata": {
  "language_info": {
   "name": "python"
  }
 },
 "nbformat": 4,
 "nbformat_minor": 2
}
