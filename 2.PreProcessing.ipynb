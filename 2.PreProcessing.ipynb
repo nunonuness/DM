{
 "cells": [
  {
   "cell_type": "markdown",
   "metadata": {},
   "source": [
    "<div style=\"background-color: #ffffff; color: #333; padding: 15px; border: 1px solid #ddd; border-radius: 8px;\">\n",
    "    <a class=\"anchor\" id=\"1st-bullet\"></a>\n",
    "    <h2 style=\"color: #795548; font-weight: bold; text-align: center;\">Group Project - Data Preprocessing</h2>\n",
    "    <h3 style=\"color: #a1887f; text-align: center;\">Data Mining 2024/2025</h3>\n",
    "</div>"
   ]
  },
  {
   "cell_type": "markdown",
   "metadata": {},
   "source": [
    "<div style=\"text-align: center;\">\n",
    "    <strong>Group 14</strong>\n",
    "    <table style=\"margin: 0 auto; border-collapse: collapse; border: 1px solid black;\">\n",
    "        <tr>\n",
    "            <th style=\"border: 1px solid white; padding: 8px;\">Name</th>\n",
    "            <th style=\"border: 1px solid white; padding: 8px;\">Student ID</th>\n",
    "        </tr>\n",
    "        <tr>\n",
    "            <td style=\"border: 1px solid white; padding: 8px;\">Francisco Santos</td>\n",
    "            <td style=\"border: 1px solid white; padding: 8px;\">20240562</td>\n",
    "        </tr>\n",
    "        <tr>\n",
    "            <td style=\"border: 1px solid white; padding: 8px;\">Margarida Raposo</td>\n",
    "            <td style=\"border: 1px solid white; padding: 8px;\">20241020</td>\n",
    "        </tr>\n",
    "        <tr>\n",
    "            <td style=\"border: 1px solid white; padding: 8px;\">Nuno Nunes</td>\n",
    "            <td style=\"border: 1px solid white; padding: 8px;\">20240560</td>\n",
    "        </tr>\n",
    "        <tr>\n",
    "            <td style=\"border: 1px solid white; padding: 8px;\">Teresa Menezes</td>\n",
    "            <td style=\"border: 1px solid white; padding: 8px;\">20240333</td>\n",
    "        </tr>\n",
    "    </table>\n",
    "</div>"
   ]
  },
  {
   "cell_type": "markdown",
   "metadata": {},
   "source": [
    "### **Structure**\n",
    "1. [Data Preparation](#add)\n",
    "2. [Missing Values](#add)\n",
    "3. [Outliers](#add)\n",
    "3. Feature Engineering ? https://www.kaggle.com/code/karnikakapoor/customer-segmentation-clustering"
   ]
  },
  {
   "cell_type": "code",
   "execution_count": 1,
   "metadata": {},
   "outputs": [],
   "source": [
    "import pandas as pd\n",
    "import numpy as np\n",
    "\n",
    "# import matplotlib.pyplot and seaborn for data visualization\n",
    "import matplotlib.pyplot as plt\n",
    "import seaborn as sns\n",
    "\n",
    "import os\n",
    "from math import ceil\n",
    "\n",
    "from scipy import stats\n",
    "\n",
    "import warnings\n",
    "\n",
    "from sklearn.preprocessing import StandardScaler\n",
    "\n",
    "from sklearn.neighbors import NearestNeighbors\n",
    "\n",
    "########### for what?\n",
    "from kneed import KneeLocator\n",
    "\n",
    "########### for what?\n",
    "from sklearn.cluster import DBSCAN\n",
    "from sklearn.metrics import silhouette_score"
   ]
  },
  {
   "cell_type": "code",
   "execution_count": 2,
   "metadata": {},
   "outputs": [],
   "source": [
    "df = pd.read_csv('df1.csv')"
   ]
  },
  {
   "cell_type": "markdown",
   "metadata": {},
   "source": [
    "## Data Preparation"
   ]
  },
  {
   "cell_type": "code",
   "execution_count": 3,
   "metadata": {},
   "outputs": [],
   "source": [
    "# remove duplicated instances\n",
    "df.drop_duplicates(inplace=True)"
   ]
  },
  {
   "cell_type": "code",
   "execution_count": 4,
   "metadata": {},
   "outputs": [],
   "source": [
    "# exclude customers with no orders\n",
    "no_orders = df.loc[:, 'DOW_0':'DOW_6'].sum(axis=1) == 0\n",
    "no_orders = df[no_orders]"
   ]
  },
  {
   "cell_type": "code",
   "execution_count": 5,
   "metadata": {},
   "outputs": [],
   "source": [
    "# new dataframe with only customers who have ordered\n",
    "df_customers = df[~df.index.isin(no_orders.index)]"
   ]
  },
  {
   "cell_type": "code",
   "execution_count": 6,
   "metadata": {},
   "outputs": [],
   "source": [
    "# set customer_id as index\n",
    "df_customers.set_index('customer_id', inplace=True)"
   ]
  },
  {
   "cell_type": "markdown",
   "metadata": {},
   "source": [
    "### Missing Values"
   ]
  },
  {
   "cell_type": "code",
   "execution_count": 7,
   "metadata": {},
   "outputs": [
    {
     "data": {
      "text/html": [
       "<div>\n",
       "<style scoped>\n",
       "    .dataframe tbody tr th:only-of-type {\n",
       "        vertical-align: middle;\n",
       "    }\n",
       "\n",
       "    .dataframe tbody tr th {\n",
       "        vertical-align: top;\n",
       "    }\n",
       "\n",
       "    .dataframe thead th {\n",
       "        text-align: right;\n",
       "    }\n",
       "</style>\n",
       "<table border=\"1\" class=\"dataframe\">\n",
       "  <thead>\n",
       "    <tr style=\"text-align: right;\">\n",
       "      <th></th>\n",
       "      <th>Total NaN</th>\n",
       "      <th>Percentage NaN</th>\n",
       "    </tr>\n",
       "  </thead>\n",
       "  <tbody>\n",
       "    <tr>\n",
       "      <th>HR_0</th>\n",
       "      <td>1164</td>\n",
       "      <td>3.67</td>\n",
       "    </tr>\n",
       "    <tr>\n",
       "      <th>age_group</th>\n",
       "      <td>727</td>\n",
       "      <td>2.29</td>\n",
       "    </tr>\n",
       "    <tr>\n",
       "      <th>customer_age</th>\n",
       "      <td>727</td>\n",
       "      <td>2.29</td>\n",
       "    </tr>\n",
       "    <tr>\n",
       "      <th>first_order</th>\n",
       "      <td>106</td>\n",
       "      <td>0.33</td>\n",
       "    </tr>\n",
       "  </tbody>\n",
       "</table>\n",
       "</div>"
      ],
      "text/plain": [
       "              Total NaN  Percentage NaN\n",
       "HR_0               1164            3.67\n",
       "age_group           727            2.29\n",
       "customer_age        727            2.29\n",
       "first_order         106            0.33"
      ]
     },
     "execution_count": 7,
     "metadata": {},
     "output_type": "execute_result"
    }
   ],
   "source": [
    "# get the total number of NaN values for each column\n",
    "total_nan = df_customers.isna().sum().sort_values(ascending=False)\n",
    "\n",
    "# get the percentage of NaN values for each column\n",
    "percent_nan = ((total_nan / len(df_customers)) * 100).round(2)\n",
    "\n",
    "# create a DataFrame to display the total and percentage of NaN values for each column\n",
    "nan_stats = pd.DataFrame({'Total NaN': total_nan, 'Percentage NaN': percent_nan})\n",
    "\n",
    "# no need to display columns with no NaN values\n",
    "nan_stats = nan_stats[nan_stats['Total NaN'] > 0]\n",
    "\n",
    "nan_stats"
   ]
  },
  {
   "cell_type": "markdown",
   "metadata": {},
   "source": [
    "- Low %, so lets use imputation\n",
    "\n",
    "- Same % for 'customer_age' and 'age_group' -> NaN values in age_group are probably due to missing values in customer_age"
   ]
  },
  {
   "cell_type": "markdown",
   "metadata": {},
   "source": [
    "**HR_0**"
   ]
  },
  {
   "cell_type": "code",
   "execution_count": 8,
   "metadata": {},
   "outputs": [
    {
     "data": {
      "text/plain": [
       "0.0"
      ]
     },
     "execution_count": 8,
     "metadata": {},
     "output_type": "execute_result"
    }
   ],
   "source": [
    "# ignore warnings\n",
    "warnings.filterwarnings('ignore')\n",
    "\n",
    "# fill HR_0 with the mean value \n",
    "hr_0_mean = df_customers['HR_0'].mean()\n",
    "df_customers['HR_0'].fillna(hr_0_mean, inplace=True)\n",
    "hr_0_mean"
   ]
  },
  {
   "cell_type": "markdown",
   "metadata": {},
   "source": [
    "**Customer Age and Age Group**"
   ]
  },
  {
   "cell_type": "code",
   "execution_count": 9,
   "metadata": {},
   "outputs": [
    {
     "name": "stdout",
     "output_type": "stream",
     "text": [
      "Are all missing age_group values tied to missing customer_age? True\n"
     ]
    }
   ],
   "source": [
    "# Check if missing age_group aligns with missing customer_age\n",
    "missing_consistency = df_customers[df_customers['customer_age'].isnull()]['age_group'].isnull().all()\n",
    "print(f\"Are all missing age_group values tied to missing customer_age? {missing_consistency}\")"
   ]
  },
  {
   "cell_type": "code",
   "execution_count": 10,
   "metadata": {},
   "outputs": [
    {
     "data": {
      "text/plain": [
       "Text(0.5, 1.0, 'Distribution of Customer Age')"
      ]
     },
     "execution_count": 10,
     "metadata": {},
     "output_type": "execute_result"
    },
    {
     "data": {
      "image/png": "[encoded data removed]",
      "text/plain": [
       "<Figure size 640x480 with 1 Axes>"
      ]
     },
     "metadata": {},
     "output_type": "display_data"
    }
   ],
   "source": [
    "# get distribution of the 'customer_age' column\n",
    "sns.histplot(df_customers['customer_age'], kde=True, color='blue')\n",
    "plt.title('Distribution of Customer Age')\n"
   ]
  },
  {
   "cell_type": "markdown",
   "metadata": {},
   "source": [
    "- Distribution is right-skewed, let's use the median over the mean"
   ]
  },
  {
   "cell_type": "code",
   "execution_count": 11,
   "metadata": {},
   "outputs": [],
   "source": [
    "# ignore warnings\n",
    "warnings.filterwarnings('ignore')\n",
    "\n",
    "# fill customer_age with the median value\n",
    "customer_age_median = df_customers['customer_age'].median()  # 26\n",
    "df_customers['customer_age'].fillna(customer_age_median, inplace=True)\n",
    "\n",
    "# fill age_group with the respective age group (21-30)\n",
    "df_customers['age_group'].fillna('21-30', inplace=True)"
   ]
  },
  {
   "cell_type": "markdown",
   "metadata": {},
   "source": [
    "**First_Order** \n",
    "- Impute with the mean, median or mode doesn't make sense here. As those missing values represent 0.33% let's drop them"
   ]
  },
  {
   "cell_type": "code",
   "execution_count": 12,
   "metadata": {},
   "outputs": [],
   "source": [
    "# ignore warnings\n",
    "warnings.filterwarnings('ignore')\n",
    "\n",
    "# drop rows where first_order is missing\n",
    "df_customers.dropna(subset=['first_order'], inplace=True)"
   ]
  },
  {
   "cell_type": "markdown",
   "metadata": {},
   "source": [
    "## Outliers"
   ]
  },
  {
   "cell_type": "code",
   "execution_count": 13,
   "metadata": {},
   "outputs": [],
   "source": [
    "# metric features\n",
    "metric_features = df_customers.select_dtypes(include=[np.number]).columns"
   ]
  },
  {
   "cell_type": "code",
   "execution_count": 14,
   "metadata": {},
   "outputs": [],
   "source": [
    "scaler = StandardScaler()\n",
    "data_scaled = scaler.fit_transform(df_customers[metric_features])"
   ]
  },
  {
   "cell_type": "code",
   "execution_count": 15,
   "metadata": {},
   "outputs": [],
   "source": [
    "# Using DBScan for Outlier detection:\n",
    "\n",
    "neigh = NearestNeighbors(n_neighbors=2)\n",
    "nbrs = neigh.fit(data_scaled)\n",
    "distances, indices = nbrs.kneighbors(data_scaled)"
   ]
  },
  {
   "cell_type": "code",
   "execution_count": 16,
   "metadata": {},
   "outputs": [
    {
     "data": {
      "image/png": "[encoded data removed]",
      "text/plain": [
       "<Figure size 2000x1000 with 1 Axes>"
      ]
     },
     "metadata": {},
     "output_type": "display_data"
    }
   ],
   "source": [
    "# Plotting K-distance Graph\n",
    "distances = np.sort(distances, axis=0)\n",
    "distances = distances[:,1]\n",
    "\n",
    "plt.figure(figsize=(20,10))\n",
    "plt.plot(distances)\n",
    "plt.title('K-distance Graph',fontsize=20)\n",
    "plt.xlabel('Data Points sorted by distance',fontsize=14)\n",
    "plt.ylabel('Epsilon',fontsize=14)\n",
    "plt.show()"
   ]
  },
  {
   "cell_type": "code",
   "execution_count": 17,
   "metadata": {},
   "outputs": [
    {
     "name": "stdout",
     "output_type": "stream",
     "text": [
      "The elbow point is: 31449\n",
      "The epsilon value at the elbow point is: 18.19332824760095\n"
     ]
    }
   ],
   "source": [
    "# distances would be your sorted distance values\n",
    "kneedle = KneeLocator(range(len(distances)), distances, S=1.0, curve='convex', direction='increasing')\n",
    "\n",
    "# The elbow point:\n",
    "elbow_point = kneedle.elbow\n",
    "print(\"The elbow point is:\", elbow_point)\n",
    "\n",
    "epsilon = distances[kneedle.elbow]\n",
    "print(\"The epsilon value at the elbow point is:\", epsilon)"
   ]
  },
  {
   "cell_type": "code",
   "execution_count": null,
   "metadata": {},
   "outputs": [],
   "source": [
    "# Define specific `min_samples` values to test\n",
    "min_samples_values = [len(metric_features) + 1, 2*len(metric_features),3*len(metric_features)]\n",
    "\n",
    "# Initialize lists to store the metrics\n",
    "silhouette_scores = []\n",
    "\n",
    "# Loop over the specified `min_samples` values\n",
    "for min_samples in min_samples_values:\n",
    "    # Run DBSCAN\n",
    "    db = DBSCAN(eps=17.6778753865531, min_samples=min_samples)\n",
    "    labels = db.fit_predict(data_scaled)\n",
    "    \n",
    "    # Calculate metrics for clusters that have more than one element and not just noise\n",
    "    if len(set(labels)) > 1 and -1 in labels:\n",
    "        silhouette_avg = silhouette_score(data_scaled, labels)\n",
    "        \n",
    "        # Append metrics to the lists\n",
    "        silhouette_scores.append(silhouette_avg)\n",
    "\n",
    "    else:\n",
    "        # If there's only one cluster or all points are noise, metrics are not meaningful\n",
    "        silhouette_scores.append(None)\n",
    "\n",
    "# Print the results\n",
    "for ms, ss in zip(min_samples_values, silhouette_scores):\n",
    "    print(f\"min_samples: {ms}, Silhouette Score: {ss}\")\n"
   ]
  },
  {
   "cell_type": "code",
   "execution_count": 35,
   "metadata": {},
   "outputs": [],
   "source": [
    "epsilon = 17.6778753865531\n",
    "\n",
    "min_points = len(metric_features) + 1 # by convention the min_points has to be at least the nr of metric features plus 1. Indeed 59 + 1 was the one providing the highest silhouette score according to the above output"
   ]
  },
  {
   "cell_type": "code",
   "execution_count": 36,
   "metadata": {},
   "outputs": [
    {
     "ename": "",
     "evalue": "",
     "output_type": "error",
     "traceback": [
      "\u001b[1;31mThe Kernel crashed while executing code in the current cell or a previous cell. \n",
      "\u001b[1;31mPlease review the code in the cell(s) to identify a possible cause of the failure. \n",
      "\u001b[1;31mClick <a href='https://aka.ms/vscodeJupyterKernelCrash'>here</a> for more info. \n",
      "\u001b[1;31mView Jupyter <a href='command:jupyter.viewOutput'>log</a> for further details."
     ]
    }
   ],
   "source": [
    "model = DBSCAN(eps = epsilon, min_samples = min_points).fit(data_scaled)"
   ]
  },
  {
   "cell_type": "code",
   "execution_count": null,
   "metadata": {},
   "outputs": [
    {
     "data": {
      "text/plain": [
       "array([[-1.66526122,  0.92151988,  0.31625374, ...,  0.30690247,\n",
       "        -0.85088658, 18.69953838],\n",
       "       [-1.65652135,  1.62728046,  4.64452071, ...,  0.48136468,\n",
       "        -1.43182836,  9.14386525],\n",
       "       [-1.63860462, -0.20769704,  7.89072093, ...,  0.69944245,\n",
       "        -1.50154137,  9.22431506],\n",
       "       ...,\n",
       "       [ 0.53991739, -0.91345762,  2.84107614, ...,  1.09198243,\n",
       "        -1.34380688,  9.36908169],\n",
       "       [ 0.57454913, -0.91345762,  8.61209876, ...,  0.83028911,\n",
       "        -1.51072169,  4.78236719],\n",
       "       [ 0.58175952, -0.06654493,  3.92314288, ...,  1.09198243,\n",
       "        -1.40416446,  2.51686622]])"
      ]
     },
     "execution_count": 189,
     "metadata": {},
     "output_type": "execute_result"
    }
   ],
   "source": [
    "# outliers dataframe\n",
    "outliers = data_scaled[model.labels_ == -1]\n",
    "outliers"
   ]
  },
  {
   "cell_type": "code",
   "execution_count": null,
   "metadata": {},
   "outputs": [
    {
     "name": "stdout",
     "output_type": "stream",
     "text": [
      "Percentage of data identified as outliers: 0.54%\n"
     ]
    }
   ],
   "source": [
    "# Calculate the number of data points in the original dataset\n",
    "original_data_count = len(data_scaled)\n",
    "\n",
    "# Calculate the number of data points identified as outliers\n",
    "outliers_count = len(data_scaled[model.labels_ == -1])\n",
    "\n",
    "# Calculate the percentage of data that are outliers\n",
    "outliers_percentage = (outliers_count / original_data_count) * 100\n",
    "\n",
    "print(f\"Percentage of data identified as outliers: {outliers_percentage:.2f}%\")"
   ]
  },
  {
   "cell_type": "code",
   "execution_count": null,
   "metadata": {},
   "outputs": [],
   "source": [
    "data_no_outliers = data_scaled[model.labels_ != -1]"
   ]
  },
  {
   "cell_type": "code",
   "execution_count": null,
   "metadata": {},
   "outputs": [
    {
     "data": {
      "text/html": [
       "<div>\n",
       "<style scoped>\n",
       "    .dataframe tbody tr th:only-of-type {\n",
       "        vertical-align: middle;\n",
       "    }\n",
       "\n",
       "    .dataframe tbody tr th {\n",
       "        vertical-align: top;\n",
       "    }\n",
       "\n",
       "    .dataframe thead th {\n",
       "        text-align: right;\n",
       "    }\n",
       "</style>\n",
       "<table border=\"1\" class=\"dataframe\">\n",
       "  <thead>\n",
       "    <tr style=\"text-align: right;\">\n",
       "      <th></th>\n",
       "      <th>Unnamed: 0</th>\n",
       "      <th>customer_age</th>\n",
       "      <th>vendor_count</th>\n",
       "      <th>product_count</th>\n",
       "      <th>is_chain</th>\n",
       "      <th>first_order</th>\n",
       "      <th>last_order</th>\n",
       "      <th>CUI_American</th>\n",
       "      <th>CUI_Asian</th>\n",
       "      <th>CUI_Beverages</th>\n",
       "      <th>...</th>\n",
       "      <th>HR_20</th>\n",
       "      <th>HR_21</th>\n",
       "      <th>HR_22</th>\n",
       "      <th>HR_23</th>\n",
       "      <th>customer_city</th>\n",
       "      <th>total_amount_spent</th>\n",
       "      <th>total_orders</th>\n",
       "      <th>days_since_last_order</th>\n",
       "      <th>vendor_loyalty_score</th>\n",
       "      <th>total_spent</th>\n",
       "    </tr>\n",
       "  </thead>\n",
       "  <tbody>\n",
       "    <tr>\n",
       "      <th>0</th>\n",
       "      <td>-1.730046</td>\n",
       "      <td>-1.336914</td>\n",
       "      <td>-0.405124</td>\n",
       "      <td>-0.101535</td>\n",
       "      <td>-0.460631</td>\n",
       "      <td>-1.179582</td>\n",
       "      <td>-2.746186</td>\n",
       "      <td>-0.419982</td>\n",
       "      <td>-0.424012</td>\n",
       "      <td>-0.271954</td>\n",
       "      <td>...</td>\n",
       "      <td>-0.244272</td>\n",
       "      <td>-0.204976</td>\n",
       "      <td>-0.162464</td>\n",
       "      <td>-0.160869</td>\n",
       "      <td>-1.060623</td>\n",
       "      <td>-0.207887</td>\n",
       "      <td>-0.471133</td>\n",
       "      <td>-2.746186</td>\n",
       "      <td>-0.076298</td>\n",
       "      <td>-0.207887</td>\n",
       "    </tr>\n",
       "    <tr>\n",
       "      <th>1</th>\n",
       "      <td>-1.729936</td>\n",
       "      <td>-1.478066</td>\n",
       "      <td>-0.405124</td>\n",
       "      <td>-0.531991</td>\n",
       "      <td>-0.209876</td>\n",
       "      <td>-1.179582</td>\n",
       "      <td>-2.746186</td>\n",
       "      <td>0.676943</td>\n",
       "      <td>-0.153769</td>\n",
       "      <td>-0.271954</td>\n",
       "      <td>...</td>\n",
       "      <td>-0.244272</td>\n",
       "      <td>-0.204976</td>\n",
       "      <td>-0.162464</td>\n",
       "      <td>-0.160869</td>\n",
       "      <td>1.338483</td>\n",
       "      <td>-0.415895</td>\n",
       "      <td>-0.471133</td>\n",
       "      <td>-2.746186</td>\n",
       "      <td>-0.076298</td>\n",
       "      <td>-0.415895</td>\n",
       "    </tr>\n",
       "    <tr>\n",
       "      <th>2</th>\n",
       "      <td>-1.729827</td>\n",
       "      <td>1.486128</td>\n",
       "      <td>-0.765813</td>\n",
       "      <td>-0.531991</td>\n",
       "      <td>-0.209876</td>\n",
       "      <td>-1.179582</td>\n",
       "      <td>-2.746186</td>\n",
       "      <td>0.367203</td>\n",
       "      <td>-0.424012</td>\n",
       "      <td>-0.271954</td>\n",
       "      <td>...</td>\n",
       "      <td>-0.244272</td>\n",
       "      <td>-0.204976</td>\n",
       "      <td>-0.162464</td>\n",
       "      <td>-0.160869</td>\n",
       "      <td>-0.260921</td>\n",
       "      <td>-0.631216</td>\n",
       "      <td>-0.471133</td>\n",
       "      <td>-2.746186</td>\n",
       "      <td>1.472881</td>\n",
       "      <td>-0.631216</td>\n",
       "    </tr>\n",
       "    <tr>\n",
       "      <th>3</th>\n",
       "      <td>-1.729718</td>\n",
       "      <td>-0.207697</td>\n",
       "      <td>-0.405124</td>\n",
       "      <td>-0.388506</td>\n",
       "      <td>-0.460631</td>\n",
       "      <td>-1.179582</td>\n",
       "      <td>-2.702571</td>\n",
       "      <td>-0.419982</td>\n",
       "      <td>0.155382</td>\n",
       "      <td>-0.271954</td>\n",
       "      <td>...</td>\n",
       "      <td>-0.244272</td>\n",
       "      <td>-0.204976</td>\n",
       "      <td>-0.162464</td>\n",
       "      <td>-0.160869</td>\n",
       "      <td>-0.260921</td>\n",
       "      <td>-0.150238</td>\n",
       "      <td>-0.471133</td>\n",
       "      <td>-2.702571</td>\n",
       "      <td>-0.076298</td>\n",
       "      <td>-0.150238</td>\n",
       "    </tr>\n",
       "    <tr>\n",
       "      <th>4</th>\n",
       "      <td>-1.729609</td>\n",
       "      <td>-1.054610</td>\n",
       "      <td>-0.405124</td>\n",
       "      <td>-0.101535</td>\n",
       "      <td>-0.711387</td>\n",
       "      <td>-1.179582</td>\n",
       "      <td>-2.702571</td>\n",
       "      <td>0.826679</td>\n",
       "      <td>1.304442</td>\n",
       "      <td>-0.271954</td>\n",
       "      <td>...</td>\n",
       "      <td>-0.244272</td>\n",
       "      <td>-0.204976</td>\n",
       "      <td>-0.162464</td>\n",
       "      <td>-0.160869</td>\n",
       "      <td>-0.260921</td>\n",
       "      <td>0.363436</td>\n",
       "      <td>-0.471133</td>\n",
       "      <td>-2.702571</td>\n",
       "      <td>-0.076298</td>\n",
       "      <td>0.363436</td>\n",
       "    </tr>\n",
       "    <tr>\n",
       "      <th>...</th>\n",
       "      <td>...</td>\n",
       "      <td>...</td>\n",
       "      <td>...</td>\n",
       "      <td>...</td>\n",
       "      <td>...</td>\n",
       "      <td>...</td>\n",
       "      <td>...</td>\n",
       "      <td>...</td>\n",
       "      <td>...</td>\n",
       "      <td>...</td>\n",
       "      <td>...</td>\n",
       "      <td>...</td>\n",
       "      <td>...</td>\n",
       "      <td>...</td>\n",
       "      <td>...</td>\n",
       "      <td>...</td>\n",
       "      <td>...</td>\n",
       "      <td>...</td>\n",
       "      <td>...</td>\n",
       "      <td>...</td>\n",
       "      <td>...</td>\n",
       "    </tr>\n",
       "    <tr>\n",
       "      <th>31408</th>\n",
       "      <td>1.734985</td>\n",
       "      <td>6.567604</td>\n",
       "      <td>-0.765813</td>\n",
       "      <td>-0.675476</td>\n",
       "      <td>-0.460631</td>\n",
       "      <td>2.518094</td>\n",
       "      <td>1.091982</td>\n",
       "      <td>-0.419982</td>\n",
       "      <td>-0.424012</td>\n",
       "      <td>-0.271954</td>\n",
       "      <td>...</td>\n",
       "      <td>-0.244272</td>\n",
       "      <td>-0.204976</td>\n",
       "      <td>-0.162464</td>\n",
       "      <td>-0.160869</td>\n",
       "      <td>-1.060623</td>\n",
       "      <td>-0.791471</td>\n",
       "      <td>-0.667500</td>\n",
       "      <td>1.091982</td>\n",
       "      <td>1.472881</td>\n",
       "      <td>-0.791471</td>\n",
       "    </tr>\n",
       "    <tr>\n",
       "      <th>31409</th>\n",
       "      <td>1.735095</td>\n",
       "      <td>-0.207697</td>\n",
       "      <td>-0.765813</td>\n",
       "      <td>-0.675476</td>\n",
       "      <td>-0.460631</td>\n",
       "      <td>2.518094</td>\n",
       "      <td>1.091982</td>\n",
       "      <td>-0.419982</td>\n",
       "      <td>-0.424012</td>\n",
       "      <td>-0.271954</td>\n",
       "      <td>...</td>\n",
       "      <td>-0.244272</td>\n",
       "      <td>-0.204976</td>\n",
       "      <td>-0.162464</td>\n",
       "      <td>-0.160869</td>\n",
       "      <td>-1.060623</td>\n",
       "      <td>-0.789105</td>\n",
       "      <td>-0.667500</td>\n",
       "      <td>1.091982</td>\n",
       "      <td>1.472881</td>\n",
       "      <td>-0.789105</td>\n",
       "    </tr>\n",
       "    <tr>\n",
       "      <th>31410</th>\n",
       "      <td>1.735204</td>\n",
       "      <td>-1.054610</td>\n",
       "      <td>-0.765813</td>\n",
       "      <td>-0.531991</td>\n",
       "      <td>-0.711387</td>\n",
       "      <td>2.518094</td>\n",
       "      <td>1.091982</td>\n",
       "      <td>-0.419982</td>\n",
       "      <td>-0.424012</td>\n",
       "      <td>-0.271954</td>\n",
       "      <td>...</td>\n",
       "      <td>-0.244272</td>\n",
       "      <td>-0.204976</td>\n",
       "      <td>-0.162464</td>\n",
       "      <td>-0.160869</td>\n",
       "      <td>-0.260921</td>\n",
       "      <td>-0.331143</td>\n",
       "      <td>-0.667500</td>\n",
       "      <td>1.091982</td>\n",
       "      <td>1.472881</td>\n",
       "      <td>-0.331143</td>\n",
       "    </tr>\n",
       "    <tr>\n",
       "      <th>31411</th>\n",
       "      <td>1.735313</td>\n",
       "      <td>-0.772306</td>\n",
       "      <td>-0.765813</td>\n",
       "      <td>-0.388506</td>\n",
       "      <td>-0.460631</td>\n",
       "      <td>2.518094</td>\n",
       "      <td>1.091982</td>\n",
       "      <td>-0.419982</td>\n",
       "      <td>-0.424012</td>\n",
       "      <td>-0.271954</td>\n",
       "      <td>...</td>\n",
       "      <td>-0.244272</td>\n",
       "      <td>-0.204976</td>\n",
       "      <td>-0.162464</td>\n",
       "      <td>-0.160869</td>\n",
       "      <td>-0.260921</td>\n",
       "      <td>-0.355665</td>\n",
       "      <td>-0.667500</td>\n",
       "      <td>1.091982</td>\n",
       "      <td>1.472881</td>\n",
       "      <td>-0.355665</td>\n",
       "    </tr>\n",
       "    <tr>\n",
       "      <th>31412</th>\n",
       "      <td>1.735422</td>\n",
       "      <td>-0.207697</td>\n",
       "      <td>-0.765813</td>\n",
       "      <td>-0.675476</td>\n",
       "      <td>-0.460631</td>\n",
       "      <td>2.559641</td>\n",
       "      <td>1.135598</td>\n",
       "      <td>-0.196661</td>\n",
       "      <td>-0.424012</td>\n",
       "      <td>-0.271954</td>\n",
       "      <td>...</td>\n",
       "      <td>-0.244272</td>\n",
       "      <td>-0.204976</td>\n",
       "      <td>-0.162464</td>\n",
       "      <td>-0.160869</td>\n",
       "      <td>-1.060623</td>\n",
       "      <td>-0.772972</td>\n",
       "      <td>-0.667500</td>\n",
       "      <td>1.135598</td>\n",
       "      <td>1.472881</td>\n",
       "      <td>-0.772972</td>\n",
       "    </tr>\n",
       "  </tbody>\n",
       "</table>\n",
       "<p>31413 rows × 59 columns</p>\n",
       "</div>"
      ],
      "text/plain": [
       "       Unnamed: 0  customer_age  vendor_count  product_count  is_chain  \\\n",
       "0       -1.730046     -1.336914     -0.405124      -0.101535 -0.460631   \n",
       "1       -1.729936     -1.478066     -0.405124      -0.531991 -0.209876   \n",
       "2       -1.729827      1.486128     -0.765813      -0.531991 -0.209876   \n",
       "3       -1.729718     -0.207697     -0.405124      -0.388506 -0.460631   \n",
       "4       -1.729609     -1.054610     -0.405124      -0.101535 -0.711387   \n",
       "...           ...           ...           ...            ...       ...   \n",
       "31408    1.734985      6.567604     -0.765813      -0.675476 -0.460631   \n",
       "31409    1.735095     -0.207697     -0.765813      -0.675476 -0.460631   \n",
       "31410    1.735204     -1.054610     -0.765813      -0.531991 -0.711387   \n",
       "31411    1.735313     -0.772306     -0.765813      -0.388506 -0.460631   \n",
       "31412    1.735422     -0.207697     -0.765813      -0.675476 -0.460631   \n",
       "\n",
       "       first_order  last_order  CUI_American  CUI_Asian  CUI_Beverages  ...  \\\n",
       "0        -1.179582   -2.746186     -0.419982  -0.424012      -0.271954  ...   \n",
       "1        -1.179582   -2.746186      0.676943  -0.153769      -0.271954  ...   \n",
       "2        -1.179582   -2.746186      0.367203  -0.424012      -0.271954  ...   \n",
       "3        -1.179582   -2.702571     -0.419982   0.155382      -0.271954  ...   \n",
       "4        -1.179582   -2.702571      0.826679   1.304442      -0.271954  ...   \n",
       "...            ...         ...           ...        ...            ...  ...   \n",
       "31408     2.518094    1.091982     -0.419982  -0.424012      -0.271954  ...   \n",
       "31409     2.518094    1.091982     -0.419982  -0.424012      -0.271954  ...   \n",
       "31410     2.518094    1.091982     -0.419982  -0.424012      -0.271954  ...   \n",
       "31411     2.518094    1.091982     -0.419982  -0.424012      -0.271954  ...   \n",
       "31412     2.559641    1.135598     -0.196661  -0.424012      -0.271954  ...   \n",
       "\n",
       "          HR_20     HR_21     HR_22     HR_23  customer_city  \\\n",
       "0     -0.244272 -0.204976 -0.162464 -0.160869      -1.060623   \n",
       "1     -0.244272 -0.204976 -0.162464 -0.160869       1.338483   \n",
       "2     -0.244272 -0.204976 -0.162464 -0.160869      -0.260921   \n",
       "3     -0.244272 -0.204976 -0.162464 -0.160869      -0.260921   \n",
       "4     -0.244272 -0.204976 -0.162464 -0.160869      -0.260921   \n",
       "...         ...       ...       ...       ...            ...   \n",
       "31408 -0.244272 -0.204976 -0.162464 -0.160869      -1.060623   \n",
       "31409 -0.244272 -0.204976 -0.162464 -0.160869      -1.060623   \n",
       "31410 -0.244272 -0.204976 -0.162464 -0.160869      -0.260921   \n",
       "31411 -0.244272 -0.204976 -0.162464 -0.160869      -0.260921   \n",
       "31412 -0.244272 -0.204976 -0.162464 -0.160869      -1.060623   \n",
       "\n",
       "       total_amount_spent  total_orders  days_since_last_order  \\\n",
       "0               -0.207887     -0.471133              -2.746186   \n",
       "1               -0.415895     -0.471133              -2.746186   \n",
       "2               -0.631216     -0.471133              -2.746186   \n",
       "3               -0.150238     -0.471133              -2.702571   \n",
       "4                0.363436     -0.471133              -2.702571   \n",
       "...                   ...           ...                    ...   \n",
       "31408           -0.791471     -0.667500               1.091982   \n",
       "31409           -0.789105     -0.667500               1.091982   \n",
       "31410           -0.331143     -0.667500               1.091982   \n",
       "31411           -0.355665     -0.667500               1.091982   \n",
       "31412           -0.772972     -0.667500               1.135598   \n",
       "\n",
       "       vendor_loyalty_score  total_spent  \n",
       "0                 -0.076298    -0.207887  \n",
       "1                 -0.076298    -0.415895  \n",
       "2                  1.472881    -0.631216  \n",
       "3                 -0.076298    -0.150238  \n",
       "4                 -0.076298     0.363436  \n",
       "...                     ...          ...  \n",
       "31408              1.472881    -0.791471  \n",
       "31409              1.472881    -0.789105  \n",
       "31410              1.472881    -0.331143  \n",
       "31411              1.472881    -0.355665  \n",
       "31412              1.472881    -0.772972  \n",
       "\n",
       "[31413 rows x 59 columns]"
      ]
     },
     "execution_count": 192,
     "metadata": {},
     "output_type": "execute_result"
    }
   ],
   "source": [
    "data_no_outliers = pd.DataFrame(data_no_outliers, columns=metric_features)\n",
    "data_no_outliers"
   ]
  },
  {
   "cell_type": "code",
   "execution_count": null,
   "metadata": {},
   "outputs": [],
   "source": [
    "data_no_outliers.to_csv('df2.csv', index=True)"
   ]
  }
 ],
 "metadata": {
  "kernelspec": {
   "display_name": "Python 3",
   "language": "python",
   "name": "python3"
  },
  "language_info": {
   "codemirror_mode": {
    "name": "ipython",
    "version": 3
   },
   "file_extension": ".py",
   "mimetype": "text/x-python",
   "name": "python",
   "nbconvert_exporter": "python",
   "pygments_lexer": "ipython3",
   "version": "3.11.5"
  }
 },
 "nbformat": 4,
 "nbformat_minor": 2
}
